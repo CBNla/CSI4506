{
  "nbformat": 4,
  "nbformat_minor": 0,
  "metadata": {
    "colab": {
      "name": "300045791-Ndoye-Notebook8.ipynb",
      "provenance": [],
      "collapsed_sections": []
    },
    "kernelspec": {
      "display_name": "Python 3",
      "language": "python",
      "name": "python3"
    },
    "language_info": {
      "codemirror_mode": {
        "name": "ipython",
        "version": 3
      },
      "file_extension": ".py",
      "mimetype": "text/x-python",
      "name": "python",
      "nbconvert_exporter": "python",
      "pygments_lexer": "ipython3",
      "version": "3.8.8"
    }
  },
  "cells": [
    {
      "cell_type": "markdown",
      "metadata": {
        "id": "2-V6SMps1aMz"
      },
      "source": [
        "# Notebook 8 - Représentation des connaissances"
      ]
    },
    {
      "cell_type": "code",
      "metadata": {
        "id": "NFbDvVgI1Yb3"
      },
      "source": [
        "from google.colab import drive\n",
        "drive.mount('/content/drive')"
      ],
      "execution_count": null,
      "outputs": []
    },
    {
      "cell_type": "markdown",
      "metadata": {
        "id": "LWzoA8kN1aNK"
      },
      "source": [
        "CSI4506 Intelligence Artificielle  \n",
        "Automne 2021 \\\n",
        "Versions 1 (2020) préparée par Julian Templeton, Caroline Barrière et Joel Muteba.  Version 2 (2021) modifiée par Caroline Barrière."
      ]
    },
    {
      "cell_type": "markdown",
      "metadata": {
        "id": "-f2sWDLa1aNM"
      },
      "source": [
        "***INTRODUCTION***:  \n",
        "\n",
        "Lors de la lecture de texte, comprendre les type d'entités utilisées dans le texte permet d'inférer des informations supplémentaires sur ces entités.  Par exemple, si un texte mentionne *Canada*, le fait de savoir que c'est une GPE (entité géo-politique), nous indique déjà que cette entité a une supercifie, une population, etc.  Grâce à l'utilisation de la reconnaissance d'entités nommées (Named Entity Recognition, NER), nous sommes en mesure de déterminer si une entité est une personne, une organisation, un pays, ... \n",
        "\n",
        "Lors de l'exploration de texte en version électronique, nous voyons aussi occasionnellement que les entités ont des liens cliquables vers des pages Web avec plus d'informations sur l'entité. Il s'agit d'une forme d'amélioration du texte pour permettre aux lecteurs d'accéder facilement à des informations supplémentaires.  Si nous prenons encore l'exemple de *Canada*, si nous le transformons en [Canada](https://en.wikipedia.org/wiki/Canada), à l'aide du linking d'entités (entity linking) nous accédons à d'avantage d'informations. \n",
        "\n",
        "Dans ce notebook, nous revisiterons l'ensemble de données d'actualités liées à Covid-19 du notebook 7 pour explorer comment nous pouvons améliorer les résultats de NER de spaCy et aider à la compréhension des articles de presse grâce à l'utilisation du linking d'entités. Cela se fera en trois parties, soit \n",
        "\n",
        "(1) nous explorerons d'abord les résultats du NER de spaCy \\\n",
        "(2) nous utiliserons la cohérence du texte pour un post-traitement au NER de spaCy\\\n",
        "(3) puis nous effectuons des ajouts (*enrichissement*) au texte avec le linking d'entités.\n",
        "\n",
        "Ce notebook utilise des bibliothèques qui ont été utilisées dans les notebooks précédents, notamment spaCy et pandas. "
      ]
    },
    {
      "cell_type": "markdown",
      "metadata": {
        "id": "g3lw1Bam1aNP"
      },
      "source": [
        "***DEVOIR***:  \n",
        "\n",
        "Parcourez le notebook en exécutant chaque cellule, une à la fois. \\\n",
        "Recherchez **(TO DO)** pour les tâches que vous devez effectuer. Ne modifiez pas le code en dehors des questions auxquelles vous êtes invité à répondre à moins que cela ne vous soit spécifiquement demandé. Une fois que vous avez terminé, signez le notebook (à la fin du notebook), renommez-le *NumEtudiant-NomFamille-Notebook8.ipynb* et soumettez-le.\n",
        "\n",
        "*Le notebook sera noté le 30.  \\\n",
        "Chaque **(TO DO)** est associé à un certain nombre de points.*\n",
        "***"
      ]
    },
    {
      "cell_type": "code",
      "metadata": {
        "id": "IvqAEm8o1aNR"
      },
      "source": [
        "# Before starting we will import every module that we will be using\n",
        "import spacy\n",
        "import pandas as pd"
      ],
      "execution_count": 1,
      "outputs": []
    },
    {
      "cell_type": "code",
      "metadata": {
        "id": "z0Qx9Rvk1aNT"
      },
      "source": [
        "# The core spacy object can be used for tokenization, lemmatization, POS Tagging, NER ...\n",
        "# Note that this is specifically for the English language and requires the English package to be installed\n",
        "# via pip to work as intended.\n",
        "\n",
        "# sp = spacy.load('en')\n",
        "\n",
        "# If the above causes an error then install the package as below\n",
        "# !spacy download en_core_web_sm\n",
        "sp = spacy.load('en_core_web_sm')"
      ],
      "execution_count": 5,
      "outputs": []
    },
    {
      "cell_type": "markdown",
      "metadata": {
        "id": "VmPRH8H9royU"
      },
      "source": [
        "Comme pour le dernier notebook, l'ensemble de données est fourni sur Brightspace (Module 8) avec ce notebook, mais les détails le concernant peuvent être trouvés [ici](https://www.kaggle.com/ryanxjhan/cbc-news-coronavirus-articles-march-26?select=news.csv). La première chose que nous allons faire, comme d'habitude, est de charger le fichier dans un dataframe pandas."
      ]
    },
    {
      "cell_type": "code",
      "metadata": {
        "id": "32ACx3Cy1aNY",
        "scrolled": true,
        "colab": {
          "base_uri": "https://localhost:8080/",
          "height": 801
        },
        "outputId": "84a10477-afd7-4d56-fa37-bfa7a9b26b5d"
      },
      "source": [
        "# Read the dataset, show top ten rows\n",
        "df = pd.read_csv(\"news.csv\")\n",
        "df.head(10)"
      ],
      "execution_count": 6,
      "outputs": [
        {
          "output_type": "execute_result",
          "data": {
            "text/html": [
              "<div>\n",
              "<style scoped>\n",
              "    .dataframe tbody tr th:only-of-type {\n",
              "        vertical-align: middle;\n",
              "    }\n",
              "\n",
              "    .dataframe tbody tr th {\n",
              "        vertical-align: top;\n",
              "    }\n",
              "\n",
              "    .dataframe thead th {\n",
              "        text-align: right;\n",
              "    }\n",
              "</style>\n",
              "<table border=\"1\" class=\"dataframe\">\n",
              "  <thead>\n",
              "    <tr style=\"text-align: right;\">\n",
              "      <th></th>\n",
              "      <th>Unnamed: 0</th>\n",
              "      <th>authors</th>\n",
              "      <th>title</th>\n",
              "      <th>publish_date</th>\n",
              "      <th>description</th>\n",
              "      <th>text</th>\n",
              "      <th>url</th>\n",
              "    </tr>\n",
              "  </thead>\n",
              "  <tbody>\n",
              "    <tr>\n",
              "      <th>0</th>\n",
              "      <td>0</td>\n",
              "      <td>[]</td>\n",
              "      <td>'More vital now:' Gay-straight alliances go vi...</td>\n",
              "      <td>2020-05-03 1:30</td>\n",
              "      <td>Lily Overacker and Laurell Pallot start each g...</td>\n",
              "      <td>Lily Overacker and Laurell Pallot start each g...</td>\n",
              "      <td>https://www.cbc.ca/news/canada/calgary/gay-str...</td>\n",
              "    </tr>\n",
              "    <tr>\n",
              "      <th>1</th>\n",
              "      <td>1</td>\n",
              "      <td>[]</td>\n",
              "      <td>Scientists aim to 'see' invisible transmission...</td>\n",
              "      <td>2020-05-02 8:00</td>\n",
              "      <td>Some researchers aim to learn more about how t...</td>\n",
              "      <td>This is an excerpt from Second Opinion, a week...</td>\n",
              "      <td>https://www.cbc.ca/news/technology/droplet-tra...</td>\n",
              "    </tr>\n",
              "    <tr>\n",
              "      <th>2</th>\n",
              "      <td>2</td>\n",
              "      <td>['The Canadian Press']</td>\n",
              "      <td>Coronavirus: What's happening in Canada and ar...</td>\n",
              "      <td>2020-05-02 11:28</td>\n",
              "      <td>Canada's chief public health officer struck an...</td>\n",
              "      <td>The latest:  The lives behind the numbers: Wha...</td>\n",
              "      <td>https://www.cbc.ca/news/canada/coronavirus-cov...</td>\n",
              "    </tr>\n",
              "    <tr>\n",
              "      <th>3</th>\n",
              "      <td>3</td>\n",
              "      <td>[]</td>\n",
              "      <td>B.C. announces 26 new coronavirus cases, new c...</td>\n",
              "      <td>2020-05-02 18:45</td>\n",
              "      <td>B.C. provincial health officer Dr. Bonnie Henr...</td>\n",
              "      <td>B.C. provincial health officer Dr. Bonnie Henr...</td>\n",
              "      <td>https://www.cbc.ca/news/canada/british-columbi...</td>\n",
              "    </tr>\n",
              "    <tr>\n",
              "      <th>4</th>\n",
              "      <td>4</td>\n",
              "      <td>[]</td>\n",
              "      <td>B.C. announces 26 new coronavirus cases, new c...</td>\n",
              "      <td>2020-05-02 18:45</td>\n",
              "      <td>B.C. provincial health officer Dr. Bonnie Henr...</td>\n",
              "      <td>B.C. provincial health officer Dr. Bonnie Henr...</td>\n",
              "      <td>https://www.cbc.ca/news/canada/british-columbi...</td>\n",
              "    </tr>\n",
              "    <tr>\n",
              "      <th>5</th>\n",
              "      <td>5</td>\n",
              "      <td>['Senior Writer', 'Chris Arsenault Is A Senior...</td>\n",
              "      <td>Brazil has the most confirmed COVID-19 cases i...</td>\n",
              "      <td>2020-05-02 8:00</td>\n",
              "      <td>From describing coronavirus as a \"little flu,\"...</td>\n",
              "      <td>With infection rates spiralling, some big city...</td>\n",
              "      <td>https://www.cbc.ca/news/world/brazil-has-the-m...</td>\n",
              "    </tr>\n",
              "    <tr>\n",
              "      <th>6</th>\n",
              "      <td>6</td>\n",
              "      <td>['Cbc News']</td>\n",
              "      <td>The latest on the coronavirus outbreak for May 1</td>\n",
              "      <td>2020-05-01 20:43</td>\n",
              "      <td>The latest on the coronavirus outbreak from CB...</td>\n",
              "      <td>Coronavirus Brief (CBC)  Canada is officiall...</td>\n",
              "      <td>https://www.cbc.ca/news/the-latest-on-the-coro...</td>\n",
              "    </tr>\n",
              "    <tr>\n",
              "      <th>7</th>\n",
              "      <td>7</td>\n",
              "      <td>['Cbc News']</td>\n",
              "      <td>Coronavirus: What's happening in Canada and ar...</td>\n",
              "      <td>2020-05-01 11:51</td>\n",
              "      <td>Nova Scotia announced Friday it is immediately...</td>\n",
              "      <td>The latest:  The lives behind the numbers: Wha...</td>\n",
              "      <td>https://www.cbc.ca/news/canada/coronavirus-cov...</td>\n",
              "    </tr>\n",
              "    <tr>\n",
              "      <th>8</th>\n",
              "      <td>8</td>\n",
              "      <td>['Senior Writer', \"Adam Miller Is Senior Digit...</td>\n",
              "      <td>Did the WHO mishandle the global coronavirus p...</td>\n",
              "      <td>2020-04-30 8:00</td>\n",
              "      <td>The World Health Organization has come under f...</td>\n",
              "      <td>The World Health Organization has come under f...</td>\n",
              "      <td>https://www.cbc.ca/news/health/coronavirus-who...</td>\n",
              "    </tr>\n",
              "    <tr>\n",
              "      <th>9</th>\n",
              "      <td>9</td>\n",
              "      <td>['Thomson Reuters']</td>\n",
              "      <td>Armed people in Michigan's legislature protest...</td>\n",
              "      <td>2020-04-30 21:37</td>\n",
              "      <td>Hundreds of protesters, some armed, gathered a...</td>\n",
              "      <td>Hundreds of protesters, some armed, gathered a...</td>\n",
              "      <td>https://www.cbc.ca/news/world/protesters-michi...</td>\n",
              "    </tr>\n",
              "  </tbody>\n",
              "</table>\n",
              "</div>"
            ],
            "text/plain": [
              "  Unnamed: 0  ...                                                url\n",
              "0          0  ...  https://www.cbc.ca/news/canada/calgary/gay-str...\n",
              "1          1  ...  https://www.cbc.ca/news/technology/droplet-tra...\n",
              "2          2  ...  https://www.cbc.ca/news/canada/coronavirus-cov...\n",
              "3          3  ...  https://www.cbc.ca/news/canada/british-columbi...\n",
              "4          4  ...  https://www.cbc.ca/news/canada/british-columbi...\n",
              "5          5  ...  https://www.cbc.ca/news/world/brazil-has-the-m...\n",
              "6          6  ...  https://www.cbc.ca/news/the-latest-on-the-coro...\n",
              "7          7  ...  https://www.cbc.ca/news/canada/coronavirus-cov...\n",
              "8          8  ...  https://www.cbc.ca/news/health/coronavirus-who...\n",
              "9          9  ...  https://www.cbc.ca/news/world/protesters-michi...\n",
              "\n",
              "[10 rows x 7 columns]"
            ]
          },
          "metadata": {},
          "execution_count": 6
        }
      ]
    },
    {
      "cell_type": "markdown",
      "metadata": {
        "id": "I_-q78D71Rqi"
      },
      "source": [
        "# New section"
      ]
    },
    {
      "cell_type": "markdown",
      "metadata": {
        "id": "N13QcJqR1aNV"
      },
      "source": [
        "**PARTIE 1 - Le NER de spaCy**  \n",
        "  \n",
        "Commençons par regarder le NER qui est effectué par spaCy. La documentation de SpaCy ne nous dit pas exactement comment leur NER est fait (certainement leur secret commercial), mais nous pouvons au moins regarder les résultats.\n",
        "\n",
        "Comme nous en avons discuté dans les notebooks précédents, lors de l'évaluation d'un processus, d'un modèle ou d'un outil, nous pouvons faire une évaluation quantitative ou une **évaluation qualitative** des résultats. Dans ce notebook, nous travaillons à un niveau qualitatif, ce qui signifie que nous ne mesurons pas des métriques telles que la précision/rappel, mais imprimons plutôt les résultats de quelques exemples et essayons de comprendre ces résultats.\n"
      ]
    },
    {
      "cell_type": "markdown",
      "metadata": {
        "id": "kIQI-Fwi1aNa"
      },
      "source": [
        "Vous trouverez ci-dessous la même phrase exemple que dans le dernier Notebook, pour laquelle nous avions examiné l'étiquetage des parties du discours (POS tagging) et d'autres processus linguistiques.  Nous utilisons cette phrase exemple pour illustrer maintenant comment obtenir les prédictions de type NER de spaCy pour les tokens dans un texte."
      ]
    },
    {
      "cell_type": "code",
      "metadata": {
        "id": "syOIDbsa1aNc",
        "colab": {
          "base_uri": "https://localhost:8080/"
        },
        "outputId": "9391f32c-91f7-4c2f-bdae-c24ef5d59a3a"
      },
      "source": [
        "# Same example from notebook 7, recall that we loop through the iterator found in the .ents property of a parsed sentence\n",
        "sentence_example = \"Government guidelines in Canada recommend that people stay at least two metres away from others as part of physical distancing measures to curb the spread of COVID-19.\"\n",
        "sentence_example_content = sp(sentence_example)\n",
        "# Loop through all tokens that contain a NER type and print the token along with the corresponding NER type\n",
        "for token in sentence_example_content.ents:\n",
        "    print(\"\\\"\" + token.text + \"\\\" is a \" + token.label_ )"
      ],
      "execution_count": 7,
      "outputs": [
        {
          "output_type": "stream",
          "name": "stdout",
          "text": [
            "\"Canada\" is a GPE\n",
            "\"at least two metres\" is a QUANTITY\n"
          ]
        }
      ]
    },
    {
      "cell_type": "markdown",
      "metadata": {
        "id": "J9VAgeEA1aNe"
      },
      "source": [
        "**(TO DO) Q1 - 5 points**  \n",
        "\n",
        "Dans le texte du ***second document*** (index 1) de notre corpus de documents, quels mots sont *PER* (spaCy utilise le type *PERSON*, plutôt que *PER*), *ORG* (Organisation) et *GPE* (entité géopolitique). Vous devez effectuer les opérations suivantes pour cette question:\n",
        "\n",
        "a) (2 points) Imprimez chaque *PERSON*, *ORG* et *GPE* avec son type NER tel que trouvé par spaCy.\n",
        "\n",
        "b) (1 points) Est-ce que la majorité des prédictions de spaCy sont correctes? Donnez deux exemples de sorties obtenues en (a) qui sont incorrectes selon vous.\n",
        "\n",
        "c) (2 points) Il arrive parfois que des problèmes avec les prédictions de type NER proviennent d'erreurs dans des étapes antérieures dans la pipeline TAL (e.g. tokenization, POS tagging).  Utilisez 2 exemples de sorties obtenues en (a) pour illustrer cette possibilité, et tentez d'offrir un diagnostic (que s'est-il passé?)."
      ]
    },
    {
      "cell_type": "code",
      "metadata": {
        "id": "7bIvPeBI1aNf",
        "colab": {
          "base_uri": "https://localhost:8080/"
        },
        "outputId": "de23c633-dfd0-43ff-fd1b-53b93faeba47"
      },
      "source": [
        "# RÉPONSE Q1(a) - 2 points\n",
        "# Select the second document (index 1)\n",
        "doc = df[\"text\"][1]\n",
        "\n",
        "doc_sp = sp(doc)\n",
        "\n",
        "# SHOW PERSON, ORG, GPE\n",
        "for i, token in enumerate(doc_sp.ents):\n",
        "    if(token.label_==\"PERSON\" or token.label_==\"GPE\" or token.label_==\"ORG\"  ):\n",
        "        print(str(i) + \": \\\"\" + token.text + \"\\\" is a \" + token.label_ )"
      ],
      "execution_count": 8,
      "outputs": [
        {
          "output_type": "stream",
          "name": "stdout",
          "text": [
            "3: \"the World Health Organization\" is a ORG\n",
            "4: \"Touches\" is a ORG\n",
            "5: \"WHO\" is a ORG\n",
            "7: \"the Public Health Agency\" is a ORG\n",
            "8: \"Canada\" is a GPE\n",
            "14: \"W.F. Wells\" is a PERSON\n",
            "15: \"Harvard School of Public Health\" is a ORG\n",
            "17: \"Wells\" is a PERSON\n",
            "18: \"INTERACTIVECoronavirus\" is a ORG\n",
            "20: \"Canada\" is a GPE\n",
            "22: \"Lydia Bourouiba\" is a PERSON\n",
            "23: \"the Fluid Dynamics of Disease Transmission Laboratory\" is a ORG\n",
            "24: \"the Massachusetts Institute of Technology\" is a ORG\n",
            "25: \"Bourouiba\" is a PERSON\n",
            "27: \"Mark Loeb\" is a PERSON\n",
            "28: \"Hamilton\" is a PERSON\n",
            "29: \"McMaster University\" is a ORG\n",
            "30: \"RNA\" is a ORG\n",
            "31: \"Wuhan\" is a GPE\n",
            "32: \"China\" is a GPE\n",
            "33: \"Nebraska\" is a GPE\n",
            "34: \"Loeb\" is a PERSON\n",
            "35: \"Loeb\" is a PERSON\n",
            "36: \"Canada\" is a GPE\n",
            "38: \"Gary Moore/CBC\" is a PERSON\n",
            "39: \"Allison McGeer\" is a PERSON\n",
            "40: \"Sinai Health\" is a ORG\n",
            "41: \"Toronto\" is a GPE\n",
            "44: \"McGeer\" is a ORG\n",
            "46: \"McGeer\" is a PERSON\n",
            "48: \"Bourouiba's\" is a ORG\n",
            "49: \"Bourouiba\" is a ORG\n",
            "51: \"Credit Lydia Bourouiba/MIT\" is a ORG\n",
            "56: \"Samira Mubareka\" is a PERSON\n",
            "57: \"Sunnybrook Hospital\" is a ORG\n",
            "58: \"Toronto\" is a GPE\n",
            "59: \"Bourouiba\" is a PERSON\n",
            "61: \"JAMA Insights\" is a PERSON\n",
            "67: \"N95\" is a ORG\n",
            "68: \"U.S.\" is a GPE\n",
            "70: \"Justin Trudeau\" is a PERSON\n",
            "73: \"the New England Journal of Medicine\" is a ORG\n",
            "74: \"the U.S. National Institutes of Health\" is a ORG\n",
            "76: \"U.S. National Institutes of Health\" is a ORG\n",
            "79: \"Journal of the Royal Society Interface\" is a ORG\n",
            "81: \"U.S.\" is a GPE\n",
            "82: \"Singapore\" is a GPE\n",
            "83: \"N95\" is a ORG\n",
            "84: \"Gary S. Settles\" is a PERSON\n",
            "85: \"Penn State University/Journal of\" is a ORG\n",
            "86: \"The World Health Organization\" is a ORG\n",
            "87: \"Los Angeles\" is a GPE\n",
            "88: \"Italy\" is a GPE\n",
            "89: \"Austria\" is a GPE\n"
          ]
        }
      ]
    },
    {
      "cell_type": "markdown",
      "metadata": {
        "id": "xVuqciJz1aNg"
      },
      "source": [
        "**RÉPONSE Q1(b) - 1 point**   \n",
        "\n",
        "La majorite oui mais pas tout\n",
        "\n",
        "exemples incorrects:\n",
        "\n",
        "\"Bourouiba\" is a ORG\n",
        "\n",
        "\"McGeer\" is a ORG\n"
      ]
    },
    {
      "cell_type": "markdown",
      "metadata": {
        "id": "E2K3_74F1aNi"
      },
      "source": [
        "**RÉPONSE Q1 (c) - 2 points**   \n",
        "Exemple:\n",
        "\n",
        "44: \"McGeer\" is a ORG\n",
        "49: \"Bourouiba\" is a ORG\n",
        "\n",
        "L'algorithme a surement fait une erreur de POS tagging du a la position de l'entité, et donc un type NER different de celui qui le qualifie"
      ]
    },
    {
      "cell_type": "markdown",
      "metadata": {
        "id": "OltjfgOl1aNj"
      },
      "source": [
        "**PARTIE 2 - Cohérence du texte et chaînes de coréférences**  \n",
        "\n",
        "Comme vous avez vu, les résultats du spaCy NER sont très bons, mais pas parfait.  Un problème principal avec NER (pas seulement dans spaCy mais dans de nombreux outils) est que l'annotation est effectuée une entité à la fois sans tenir compte du document global.\n",
        "\n",
        "Mais en regardant l'ensemble du document, et sachant que le texte est généralement cohérent, nous pouvons effectuer un post-traitement dans le module NER de spaCy et corriger certaines erreurs. Par texte cohérent, nous entendons, par exemple, que si une personne est désignée avec un nom particulier, par ex. *McGeer*, il y a de fortes chances qu'à chaque fois que l'on voit *McGeer* dans le document, ce soit la même personne.  Toutes les mentions *McGeer* formeraient une chaîne de coréférences vers la même entité.  Il est donc peu probable que *McGeer* soit une fois une personne et une fois une organisation. Ce n'est pas toujours vrai, il existe de nombreux contre-exemples, mais c'est une hypothèse courante. Cette idée est même le sujet d'un article de la PNL plus ancien et très cité intitulé « One sense per discourse » (Gale et al. 1992).\n",
        "\n",
        "Avec cette idée de \"One sense per discourse\", nous explorerons deux stratégies différentes pour utiliser la cohérence du texte pour post-traiter la sortie du module spaCy NER.\n",
        "\n",
        "La première stratégie (*explorée en Q2 / Q3*) est de trouver, parmi tous les types de NER assignés, lequel est le plus fréquent. Par exemple, l'entité *Bourouiba* s'est vu attribuer 1 fois ORG et 2 fois PERSON, donc ces informations peuvent être utilisées pour modifier le type ORG et le changer en PERSON.\n",
        "\n",
        "La deuxième stratégie (explorée à la Q4) est d'essayer de trouver une forme plus longue dans le texte. Puisque cette forme plus longue devrait être moins ambiguë, nous pouvons l'utiliser pour lever l'ambiguïté des formes plus courtes et plus ambiguës. Par exemple, *Lydia Bourouiba* apparaît dans le texte et se voit attribuer PERSON. Nous pouvons utiliser cette information pour attribuer à d'autres occurrences de la forme abrégée *Bourouiba* le même type PERSON.\n",
        "\n",
        "Bien sûr, utiliser ces méthodes pour la cohérence du texte ne fonctionnera pas à tous les coups, et introduira malheureusement quelques erreurs... Mais essayons. C'est le but des études empiriques, nous essayons des idées."
      ]
    },
    {
      "cell_type": "markdown",
      "metadata": {
        "id": "7VH5BjZl1aNk"
      },
      "source": [
        "Reprenons notre nouvelle utilisée pour Q1, mais cette fois, montrons non seulement GPE, PER, ORG, mais plutôt toutes les entités nommées trouvées par spaCy."
      ]
    },
    {
      "cell_type": "code",
      "metadata": {
        "id": "vMWdFIsi1aNl",
        "colab": {
          "base_uri": "https://localhost:8080/"
        },
        "outputId": "3a922bc6-b572-4b13-91f0-6faf463e920f"
      },
      "source": [
        "# Select document 2\n",
        "doc = df[\"text\"][1]\n",
        "# NER\n",
        "doc_sp = sp(doc)\n",
        "\n",
        "# Display all entities from the text along with their index in the .ents iterator and the\n",
        "# corresponding NER type\n",
        "for i, token in enumerate(doc_sp.ents):\n",
        "    print(str(i) + \": \\\"\" + token.text + \"\\\" is a \" + token.label_ )"
      ],
      "execution_count": 9,
      "outputs": [
        {
          "output_type": "stream",
          "name": "stdout",
          "text": [
            "0: \"Saturday\" is a DATE\n",
            "1: \"morning\" is a TIME\n",
            "2: \"two metres\" is a QUANTITY\n",
            "3: \"the World Health Organization\" is a ORG\n",
            "4: \"Touches\" is a ORG\n",
            "5: \"WHO\" is a ORG\n",
            "6: \"more than one metre\" is a QUANTITY\n",
            "7: \"the Public Health Agency\" is a ORG\n",
            "8: \"Canada\" is a GPE\n",
            "9: \"at least two metres\" is a QUANTITY\n",
            "10: \"two\" is a CARDINAL\n",
            "11: \"2 metres\" is a QUANTITY\n",
            "12: \"the 19th century\" is a DATE\n",
            "13: \"1934\" is a DATE\n",
            "14: \"W.F. Wells\" is a PERSON\n",
            "15: \"Harvard School of Public Health\" is a ORG\n",
            "16: \"two metres\" is a QUANTITY\n",
            "17: \"Wells\" is a PERSON\n",
            "18: \"INTERACTIVECoronavirus\" is a ORG\n",
            "19: \"56,000\" is a CARDINAL\n",
            "20: \"Canada\" is a GPE\n",
            "21: \"Saturday\" is a DATE\n",
            "22: \"Lydia Bourouiba\" is a PERSON\n",
            "23: \"the Fluid Dynamics of Disease Transmission Laboratory\" is a ORG\n",
            "24: \"the Massachusetts Institute of Technology\" is a ORG\n",
            "25: \"Bourouiba\" is a PERSON\n",
            "26: \"Canadian\" is a NORP\n",
            "27: \"Mark Loeb\" is a PERSON\n",
            "28: \"Hamilton\" is a PERSON\n",
            "29: \"McMaster University\" is a ORG\n",
            "30: \"RNA\" is a ORG\n",
            "31: \"Wuhan\" is a GPE\n",
            "32: \"China\" is a GPE\n",
            "33: \"Nebraska\" is a GPE\n",
            "34: \"Loeb\" is a PERSON\n",
            "35: \"Loeb\" is a PERSON\n",
            "36: \"Canada\" is a GPE\n",
            "37: \"at least two metres\" is a QUANTITY\n",
            "38: \"Gary Moore/CBC\" is a PERSON\n",
            "39: \"Allison McGeer\" is a PERSON\n",
            "40: \"Sinai Health\" is a ORG\n",
            "41: \"Toronto\" is a GPE\n",
            "42: \"hundreds\" is a CARDINAL\n",
            "43: \"hours\" is a TIME\n",
            "44: \"McGeer\" is a ORG\n",
            "45: \"five minutes\" is a TIME\n",
            "46: \"McGeer\" is a PERSON\n",
            "47: \"2 metres\" is a QUANTITY\n",
            "48: \"Bourouiba's\" is a ORG\n",
            "49: \"Bourouiba\" is a ORG\n",
            "50: \"seven or eight metres\" is a QUANTITY\n",
            "51: \"Credit Lydia Bourouiba/MIT\" is a ORG\n",
            "52: \"Canadian\" is a NORP\n",
            "53: \"about one kilometre\" is a QUANTITY\n",
            "54: \"two-metre\" is a QUANTITY\n",
            "55: \"up to three minutes\" is a TIME\n",
            "56: \"Samira Mubareka\" is a PERSON\n",
            "57: \"Sunnybrook Hospital\" is a ORG\n",
            "58: \"Toronto\" is a GPE\n",
            "59: \"Bourouiba\" is a PERSON\n",
            "60: \"two metres\" is a QUANTITY\n",
            "61: \"JAMA Insights\" is a PERSON\n",
            "62: \"March\" is a DATE\n",
            "63: \"two metres\" is a QUANTITY\n",
            "64: \"Mubareka\" is a LOC\n",
            "65: \"two-metre\" is a QUANTITY\n",
            "66: \"Second\" is a ORDINAL\n",
            "67: \"N95\" is a ORG\n",
            "68: \"U.S.\" is a GPE\n",
            "69: \"Canadian\" is a NORP\n",
            "70: \"Justin Trudeau\" is a PERSON\n",
            "71: \"Mubareka\" is a WORK_OF_ART\n",
            "72: \"April 2020\" is a DATE\n",
            "73: \"the New England Journal of Medicine\" is a ORG\n",
            "74: \"the U.S. National Institutes of Health\" is a ORG\n",
            "75: \"0:42\" is a TIME\n",
            "76: \"U.S. National Institutes of Health\" is a ORG\n",
            "77: \"less than 10 centimetres\" is a QUANTITY\n",
            "78: \"2009\" is a DATE\n",
            "79: \"Journal of the Royal Society Interface\" is a ORG\n",
            "80: \"2009\" is a DATE\n",
            "81: \"U.S.\" is a GPE\n",
            "82: \"Singapore\" is a GPE\n",
            "83: \"N95\" is a ORG\n",
            "84: \"Gary S. Settles\" is a PERSON\n",
            "85: \"Penn State University/Journal of\" is a ORG\n",
            "86: \"The World Health Organization\" is a ORG\n",
            "87: \"Los Angeles\" is a GPE\n",
            "88: \"Italy\" is a GPE\n",
            "89: \"Austria\" is a GPE\n",
            "90: \"Second\" is a ORDINAL\n",
            "91: \"every Saturday morning\" is a TIME\n"
          ]
        }
      ]
    },
    {
      "cell_type": "markdown",
      "metadata": {
        "id": "MpPGxf9J1aNm"
      },
      "source": [
        "**(TO DO) Q2 - 3 points**  \n",
        "Comme vous pouvez le voir dans les résultats, parfois la même entité s'est vu attribuer différents types d'entités.  Par exemple, *McGeer* est une fois ORG, une fois PERSON, puisque l'algorithme NER regarde phrase par phrase. Dans la fonction suivante, le but sera de trouver tous les types d'entités possibles affectés à une seule entité.\n",
        "\n",
        "Complétez la définition de la fonction *find_entity_types* ci-dessous. Cette fonction accepte en entrée une entité spaCy spécifique définie par le paramètre *entity* et une liste de toutes les entités spaCy du définies par le paramètre *entities*.\n",
        "\n",
        "La fonction doit trouver toutes les entités ayant la même forme de surface que *entity* dans l'ensemble *entities*. Pour chaque correspondance entre les entités, ajoutez le type NER trouvé au dictionnaire *type_counts* et mettez à jour la fréquence de ce type.\n",
        "\n",
        "Le dictionnaire *type_counts* contiendrait par exemple *McGeer* avec ORG = 1, et PERSON = 1, car la fonction a trouvé 2 mentions de *McGeer*, chacune avec un type différent."
      ]
    },
    {
      "cell_type": "code",
      "metadata": {
        "id": "6V3v0gqj1aNn"
      },
      "source": [
        "# RÉPONSE Q2\n",
        "import collections\n",
        "def find_entity_types(entity, entities):\n",
        "    '''\n",
        "    Given a specific entity and a list of entities, finds all entities from the list that match surface form of the specified\n",
        "    entity, but that could be of a different type.\n",
        "    \n",
        "    Returns the different NER types that have been classified for an entity and the count per NER type\n",
        "    as a dictionary with the keys as the NER type and the value as the count\n",
        "    '''\n",
        "    \n",
        "    type_counts = {}\n",
        "    for tok in entities:\n",
        "        if(tok.text==entity.text):\n",
        "            if tok.label_  not in type_counts:\n",
        "               \n",
        "                type_counts[tok.label_] = 1\n",
        "                \n",
        "            else:\n",
        "               \n",
        "                type_counts[tok.label_] += 1\n",
        "               \n",
        "    return type_counts\n"
      ],
      "execution_count": 27,
      "outputs": []
    },
    {
      "cell_type": "code",
      "metadata": {
        "id": "Oz_ONmNt1aNo",
        "colab": {
          "base_uri": "https://localhost:8080/"
        },
        "outputId": "7970881a-2a2d-473a-bb18-50d67711552e"
      },
      "source": [
        "# Test the above to find the result when checking for the types of the entity 'Bourouiba' \n",
        "# from the document loaded above\n",
        "print(\"All possible NER types for \\\"\" + doc_sp.ents[49].text + \"\\\" are \" + str(find_entity_types(doc_sp.ents[49], doc_sp.ents)))"
      ],
      "execution_count": 46,
      "outputs": [
        {
          "output_type": "stream",
          "name": "stdout",
          "text": [
            "All possible NER types for \"Bourouiba\" are {'PERSON': 2, 'ORG': 1}\n"
          ]
        }
      ]
    },
    {
      "cell_type": "markdown",
      "metadata": {
        "id": "MpkfKthN1aNp"
      },
      "source": [
        "**(TO DO) Q3 - 2 points**  \n",
        "\n",
        "Dans la méthode précédente, *find_entity_types*, nous avons trouvé tous les types d'entités possibles pour chaque mention. Par exemple, dans le cas de *McGeer*, c'est une égalité. Mais pour *Bourouiba*, il existe un type ORG et 2 types PERSON, donc le plus courant serait PERSON.\n",
        "\n",
        "Complétez la définition de la fonction *most_common_type* ci-dessous. Cette fonction accepte en entrée une entité spaCy spécifique définie par le paramètre *entity* et une liste de toutes les entités spaCy définies par le paramètre *entities*.\n",
        "\n",
        "Remarque: vous pouvez régler les cas d'égalité à votre guise.  Aussi, assurez-vous d'utiliser la méthode *find_entity_types* que vous avez écrite précédemment.\n"
      ]
    },
    {
      "cell_type": "code",
      "metadata": {
        "id": "IqxDmjpk1aNq"
      },
      "source": [
        "# RÉPONSE Q3 \n",
        "\n",
        "def most_common_type(entity, entities):\n",
        "    '''\n",
        "    Given a specific entity and a list of entities, find the most similar entities and assign the\n",
        "    NER type to entity based on the most common NER type assigned to entities of the same name (if there\n",
        "    is a tie, you decide how to handle this).\n",
        "    \n",
        "    Returns the most common NER type based on similar entities\n",
        "    '''\n",
        "    # TODO\n",
        " \n",
        "    a=\"\"\n",
        "    for tok in entities:\n",
        "        if(tok.text==entity.text):\n",
        "            find_entity_types(tok,entities)\n",
        "            if(tok.label_>entity.label_):\n",
        "              a = (tok.label_)\n",
        "            else:\n",
        "              a =(entity.label_)\n",
        "            \n",
        "    return a \n"
      ],
      "execution_count": 41,
      "outputs": []
    },
    {
      "cell_type": "code",
      "metadata": {
        "id": "5akWFe_d1aNr",
        "colab": {
          "base_uri": "https://localhost:8080/"
        },
        "outputId": "0fcbbf38-e007-46c8-bb09-5052e1efa04b"
      },
      "source": [
        "# Test the above to find the result when checking for the types of the entity 'Bourouiba' \n",
        "# from the document loaded above\n",
        "print(\"The most common NER type to \\\"\" + doc_sp.ents[49].text + \"\\\" is \" + str(most_common_type(doc_sp.ents[49], doc_sp.ents)))"
      ],
      "execution_count": 48,
      "outputs": [
        {
          "output_type": "stream",
          "name": "stdout",
          "text": [
            "The most common NER type to \"Bourouiba\" is PERSON\n"
          ]
        }
      ]
    },
    {
      "cell_type": "markdown",
      "metadata": {
        "id": "SfhMQveBvrD2"
      },
      "source": [
        "\n",
        "Notre première exploration (au Q2/Q3) portait sur la fréquence d'occurrence. Nous avons supposé que le type d'entité le plus courant pourrait être le bon. Maintenant, nous allons explorer l'idée que la mention la moins ambiguë à une entité pourrait être la bonne. Par exemple, *McGeer* est plus ambigu (forme plus courte) que *Allison McGeer* (forme plus longue). Souvent, la forme la plus longue de référence à une entité est la moins ambiguë. Mais parce que cette forme est longue à écrire, nous l'utilisons souvent avec parcimonie dans un texte (peut-être une seule fois) et les mentions subséquentes de la même entité utiliseront la forme courte. Par exemple, le texte peut mentionner *Allison McGeer* une fois, puis utiliser la forme abrégée *McGeer* pour faire référence à la même personne plusieurs fois dans le document.\n",
        "\n",
        "Dans les vidéos du cours, nous avons parlé de chaîne de coréférences.  Ainsi, une chaîne contient des mentions longues et courtes, référant toutes à la même entités.\n",
        "\n",
        "La forme plus longue est souvent appelée forme normalisée, et c'est une forme que nous sommes susceptibles de trouver dans une ressource externe. Nous verrons dans la partie 3 de ce Notebook, lorsque nous ferons des liens d'entités, qu'il existe une entrée Wikipedia pour *Allison McGeer* vers laquelle nous pourrions établir un lien. Nous pouvons considérer la forme plus longue de *Allison McGeer* comme la forme normalisée."
      ]
    },
    {
      "cell_type": "markdown",
      "metadata": {
        "id": "NEQ1Wek51aNr"
      },
      "source": [
        "**(TO DO) Q4 (a) - 3 points**  \n",
        "\n",
        "Vous devez écrire une fonction qui trouvera la forme la plus longue pouvant correspondre à une mention.\n",
        "\n",
        "Votre fonction aura les mêmes paramètres *entity* et *entities*, mais cette fois la fonction devra attribuer à *entité* le type NER d'une autre entité dans l'itérateur *entities*, soit le NER de la forme la plus longue.\n",
        "\n",
        "Plus précisément, vous devez parcourir les *entités* pour trouver une forme normalisée de *entité*. Dans ce scénario, l'entité avec la forme la plus longue contenant *entité* en tant que sous-chaîne sera considérée comme la forme normalisée et sera retournée.\n",
        "\n",
        "Ex : *Lydia Bourouiba* est la forme normalisée de *Bourouiba*. Ainsi, l'entité ayant cette forme doit être retournée. Mais *McMaster University* est déjà la forme la plus longue, donc si nous recherchons une forme normalisée pour cette entité, la fonction devrait renvoyer l'entité elle-même."
      ]
    },
    {
      "cell_type": "code",
      "metadata": {
        "id": "xEH_uYVZ1aNs",
        "scrolled": true,
        "colab": {
          "base_uri": "https://localhost:8080/"
        },
        "outputId": "31158e33-11c2-4abe-d5b6-e85ec6b917ee"
      },
      "source": [
        "# RÉPONSE Q4(a)\n",
        "# Find the longest surface form within \"entities\" for which the surface for of \"entity\" is a substring\n",
        "\n",
        "def assign_normalized_form(entity, entities):\n",
        "    a=entity\n",
        "    for substring in entities:\n",
        "        if (entity.text in substring.text): \n",
        "            if (len(entity.text)<len(substring.text)):\n",
        "                entity = substring\n",
        "                a = substring\n",
        "                \n",
        "        else:\n",
        "            a=entity\n",
        "        \n",
        "    return a\n",
        "        \n",
        "            \n",
        "assign_normalized_form(doc_sp.ents[44], doc_sp.ents)"
      ],
      "execution_count": 51,
      "outputs": [
        {
          "output_type": "execute_result",
          "data": {
            "text/plain": [
              "Allison McGeer"
            ]
          },
          "metadata": {},
          "execution_count": 51
        }
      ]
    },
    {
      "cell_type": "markdown",
      "metadata": {
        "id": "1lZqi5gRGWmn"
      },
      "source": [
        "Testons la fonction ci-haut, en supposant que les candidats se retrouvent uniquement dans les mentions précédentes, car souvent une forme longue est d'abord donnée *Allison McGeer* et les formes subséquentes sont les formes courtes *McGeer*."
      ]
    },
    {
      "cell_type": "code",
      "metadata": {
        "id": "P5litMpf1aNs",
        "colab": {
          "base_uri": "https://localhost:8080/"
        },
        "outputId": "9e67cb78-61fb-4243-9946-5603769db674"
      },
      "source": [
        "# Testing using only the previous references as candidates\n",
        "test = df[\"text\"][1]\n",
        "# Parse the text with spaCy\n",
        "test_sp = sp(test)\n",
        "for i, token in enumerate(test_sp.ents):\n",
        "    ent = assign_normalized_form(test_sp.ents[i], test_sp.ents[0:i-1])\n",
        "    print(str(i) + \": \\\"\" + token.text + \"\\\" is a \" + token.label_ + \"  \" + ent.text + \"  \" + ent.label_)"
      ],
      "execution_count": 52,
      "outputs": [
        {
          "output_type": "stream",
          "name": "stdout",
          "text": [
            "0: \"Saturday\" is a DATE  Saturday  DATE\n",
            "1: \"morning\" is a TIME  morning  TIME\n",
            "2: \"two metres\" is a QUANTITY  two metres  QUANTITY\n",
            "3: \"the World Health Organization\" is a ORG  the World Health Organization  ORG\n",
            "4: \"Touches\" is a ORG  Touches  ORG\n",
            "5: \"WHO\" is a ORG  WHO  ORG\n",
            "6: \"more than one metre\" is a QUANTITY  more than one metre  QUANTITY\n",
            "7: \"the Public Health Agency\" is a ORG  the Public Health Agency  ORG\n",
            "8: \"Canada\" is a GPE  Canada  GPE\n",
            "9: \"at least two metres\" is a QUANTITY  at least two metres  QUANTITY\n",
            "10: \"two\" is a CARDINAL  two metres  QUANTITY\n",
            "11: \"2 metres\" is a QUANTITY  2 metres  QUANTITY\n",
            "12: \"the 19th century\" is a DATE  the 19th century  DATE\n",
            "13: \"1934\" is a DATE  1934  DATE\n",
            "14: \"W.F. Wells\" is a PERSON  W.F. Wells  PERSON\n",
            "15: \"Harvard School of Public Health\" is a ORG  Harvard School of Public Health  ORG\n",
            "16: \"two metres\" is a QUANTITY  at least two metres  QUANTITY\n",
            "17: \"Wells\" is a PERSON  W.F. Wells  PERSON\n",
            "18: \"INTERACTIVECoronavirus\" is a ORG  INTERACTIVECoronavirus  ORG\n",
            "19: \"56,000\" is a CARDINAL  56,000  CARDINAL\n",
            "20: \"Canada\" is a GPE  Canada  GPE\n",
            "21: \"Saturday\" is a DATE  Saturday  DATE\n",
            "22: \"Lydia Bourouiba\" is a PERSON  Lydia Bourouiba  PERSON\n",
            "23: \"the Fluid Dynamics of Disease Transmission Laboratory\" is a ORG  the Fluid Dynamics of Disease Transmission Laboratory  ORG\n",
            "24: \"the Massachusetts Institute of Technology\" is a ORG  the Massachusetts Institute of Technology  ORG\n",
            "25: \"Bourouiba\" is a PERSON  Lydia Bourouiba  PERSON\n",
            "26: \"Canadian\" is a NORP  Canadian  NORP\n",
            "27: \"Mark Loeb\" is a PERSON  Mark Loeb  PERSON\n",
            "28: \"Hamilton\" is a PERSON  Hamilton  PERSON\n",
            "29: \"McMaster University\" is a ORG  McMaster University  ORG\n",
            "30: \"RNA\" is a ORG  RNA  ORG\n",
            "31: \"Wuhan\" is a GPE  Wuhan  GPE\n",
            "32: \"China\" is a GPE  China  GPE\n",
            "33: \"Nebraska\" is a GPE  Nebraska  GPE\n",
            "34: \"Loeb\" is a PERSON  Mark Loeb  PERSON\n",
            "35: \"Loeb\" is a PERSON  Mark Loeb  PERSON\n",
            "36: \"Canada\" is a GPE  Canada  GPE\n",
            "37: \"at least two metres\" is a QUANTITY  at least two metres  QUANTITY\n",
            "38: \"Gary Moore/CBC\" is a PERSON  Gary Moore/CBC  PERSON\n",
            "39: \"Allison McGeer\" is a PERSON  Allison McGeer  PERSON\n",
            "40: \"Sinai Health\" is a ORG  Sinai Health  ORG\n",
            "41: \"Toronto\" is a GPE  Toronto  GPE\n",
            "42: \"hundreds\" is a CARDINAL  hundreds  CARDINAL\n",
            "43: \"hours\" is a TIME  hours  TIME\n",
            "44: \"McGeer\" is a ORG  Allison McGeer  PERSON\n",
            "45: \"five minutes\" is a TIME  five minutes  TIME\n",
            "46: \"McGeer\" is a PERSON  Allison McGeer  PERSON\n",
            "47: \"2 metres\" is a QUANTITY  2 metres  QUANTITY\n",
            "48: \"Bourouiba's\" is a ORG  Bourouiba's  ORG\n",
            "49: \"Bourouiba\" is a ORG  Lydia Bourouiba  PERSON\n",
            "50: \"seven or eight metres\" is a QUANTITY  seven or eight metres  QUANTITY\n",
            "51: \"Credit Lydia Bourouiba/MIT\" is a ORG  Credit Lydia Bourouiba/MIT  ORG\n",
            "52: \"Canadian\" is a NORP  Canadian  NORP\n",
            "53: \"about one kilometre\" is a QUANTITY  about one kilometre  QUANTITY\n",
            "54: \"two-metre\" is a QUANTITY  two-metre  QUANTITY\n",
            "55: \"up to three minutes\" is a TIME  up to three minutes  TIME\n",
            "56: \"Samira Mubareka\" is a PERSON  Samira Mubareka  PERSON\n",
            "57: \"Sunnybrook Hospital\" is a ORG  Sunnybrook Hospital  ORG\n",
            "58: \"Toronto\" is a GPE  Toronto  GPE\n",
            "59: \"Bourouiba\" is a PERSON  Credit Lydia Bourouiba/MIT  ORG\n",
            "60: \"two metres\" is a QUANTITY  at least two metres  QUANTITY\n",
            "61: \"JAMA Insights\" is a PERSON  JAMA Insights  PERSON\n",
            "62: \"March\" is a DATE  March  DATE\n",
            "63: \"two metres\" is a QUANTITY  at least two metres  QUANTITY\n",
            "64: \"Mubareka\" is a LOC  Samira Mubareka  PERSON\n",
            "65: \"two-metre\" is a QUANTITY  two-metre  QUANTITY\n",
            "66: \"Second\" is a ORDINAL  Second  ORDINAL\n",
            "67: \"N95\" is a ORG  N95  ORG\n",
            "68: \"U.S.\" is a GPE  U.S.  GPE\n",
            "69: \"Canadian\" is a NORP  Canadian  NORP\n",
            "70: \"Justin Trudeau\" is a PERSON  Justin Trudeau  PERSON\n",
            "71: \"Mubareka\" is a WORK_OF_ART  Samira Mubareka  PERSON\n",
            "72: \"April 2020\" is a DATE  April 2020  DATE\n",
            "73: \"the New England Journal of Medicine\" is a ORG  the New England Journal of Medicine  ORG\n",
            "74: \"the U.S. National Institutes of Health\" is a ORG  the U.S. National Institutes of Health  ORG\n",
            "75: \"0:42\" is a TIME  0:42  TIME\n",
            "76: \"U.S. National Institutes of Health\" is a ORG  the U.S. National Institutes of Health  ORG\n",
            "77: \"less than 10 centimetres\" is a QUANTITY  less than 10 centimetres  QUANTITY\n",
            "78: \"2009\" is a DATE  2009  DATE\n",
            "79: \"Journal of the Royal Society Interface\" is a ORG  Journal of the Royal Society Interface  ORG\n",
            "80: \"2009\" is a DATE  2009  DATE\n",
            "81: \"U.S.\" is a GPE  the U.S. National Institutes of Health  ORG\n",
            "82: \"Singapore\" is a GPE  Singapore  GPE\n",
            "83: \"N95\" is a ORG  N95  ORG\n",
            "84: \"Gary S. Settles\" is a PERSON  Gary S. Settles  PERSON\n",
            "85: \"Penn State University/Journal of\" is a ORG  Penn State University/Journal of  ORG\n",
            "86: \"The World Health Organization\" is a ORG  The World Health Organization  ORG\n",
            "87: \"Los Angeles\" is a GPE  Los Angeles  GPE\n",
            "88: \"Italy\" is a GPE  Italy  GPE\n",
            "89: \"Austria\" is a GPE  Austria  GPE\n",
            "90: \"Second\" is a ORDINAL  Second  ORDINAL\n",
            "91: \"every Saturday morning\" is a TIME  every Saturday morning  TIME\n"
          ]
        }
      ]
    },
    {
      "cell_type": "markdown",
      "metadata": {
        "id": "peqky9sNx2u-"
      },
      "source": [
        "**(TO DO) Q4(b) - 2 points**\n",
        "\n",
        "Faites d'autres tests sans vous limiter à chercher des formes de surfaces plus longues mentionnées avant une entité (voir *test_sp.ents[0:i-1]* dans le code ci-haut), et chercher avant ou après. Ou chercher dans un intervalle (par exemple, max N entités avant ou après). Est-ce que cela fait une différence? Expliquez ce que vous avez testé et fournissez au moins 2 exemples de changements que vous remarquez."
      ]
    },
    {
      "cell_type": "code",
      "metadata": {
        "id": "TVBUJXKz1ODh",
        "colab": {
          "base_uri": "https://localhost:8080/"
        },
        "outputId": "0c2caa64-d4bd-43b4-e49a-c4c7d0cb2ad2"
      },
      "source": [
        "# RÉPONSE Q4(b)\n",
        "# Do a different test\n",
        "test = df[\"text\"][1]\n",
        "# Parse the text with spaCy\n",
        "test_sp = sp(test)\n",
        "for i, token in enumerate(test_sp.ents):\n",
        "    ent = assign_normalized_form(test_sp.ents[i], test_sp.ents[:-2]) #everything except the last two items\n",
        "    print(str(i) + \": \\\"\" + token.text + \"\\\" is a \" + token.label_ + \"  \" + ent.text + \"  \" + ent.label_)"
      ],
      "execution_count": 53,
      "outputs": [
        {
          "output_type": "stream",
          "name": "stdout",
          "text": [
            "0: \"Saturday\" is a DATE  Saturday  DATE\n",
            "1: \"morning\" is a TIME  morning  TIME\n",
            "2: \"two metres\" is a QUANTITY  at least two metres  QUANTITY\n",
            "3: \"the World Health Organization\" is a ORG  the World Health Organization  ORG\n",
            "4: \"Touches\" is a ORG  Touches  ORG\n",
            "5: \"WHO\" is a ORG  WHO  ORG\n",
            "6: \"more than one metre\" is a QUANTITY  more than one metre  QUANTITY\n",
            "7: \"the Public Health Agency\" is a ORG  the Public Health Agency  ORG\n",
            "8: \"Canada\" is a GPE  Canada  GPE\n",
            "9: \"at least two metres\" is a QUANTITY  at least two metres  QUANTITY\n",
            "10: \"two\" is a CARDINAL  at least two metres  QUANTITY\n",
            "11: \"2 metres\" is a QUANTITY  2 metres  QUANTITY\n",
            "12: \"the 19th century\" is a DATE  the 19th century  DATE\n",
            "13: \"1934\" is a DATE  1934  DATE\n",
            "14: \"W.F. Wells\" is a PERSON  W.F. Wells  PERSON\n",
            "15: \"Harvard School of Public Health\" is a ORG  Harvard School of Public Health  ORG\n",
            "16: \"two metres\" is a QUANTITY  at least two metres  QUANTITY\n",
            "17: \"Wells\" is a PERSON  W.F. Wells  PERSON\n",
            "18: \"INTERACTIVECoronavirus\" is a ORG  INTERACTIVECoronavirus  ORG\n",
            "19: \"56,000\" is a CARDINAL  56,000  CARDINAL\n",
            "20: \"Canada\" is a GPE  Canada  GPE\n",
            "21: \"Saturday\" is a DATE  Saturday  DATE\n",
            "22: \"Lydia Bourouiba\" is a PERSON  Credit Lydia Bourouiba/MIT  ORG\n",
            "23: \"the Fluid Dynamics of Disease Transmission Laboratory\" is a ORG  the Fluid Dynamics of Disease Transmission Laboratory  ORG\n",
            "24: \"the Massachusetts Institute of Technology\" is a ORG  the Massachusetts Institute of Technology  ORG\n",
            "25: \"Bourouiba\" is a PERSON  Credit Lydia Bourouiba/MIT  ORG\n",
            "26: \"Canadian\" is a NORP  Canadian  NORP\n",
            "27: \"Mark Loeb\" is a PERSON  Mark Loeb  PERSON\n",
            "28: \"Hamilton\" is a PERSON  Hamilton  PERSON\n",
            "29: \"McMaster University\" is a ORG  McMaster University  ORG\n",
            "30: \"RNA\" is a ORG  RNA  ORG\n",
            "31: \"Wuhan\" is a GPE  Wuhan  GPE\n",
            "32: \"China\" is a GPE  China  GPE\n",
            "33: \"Nebraska\" is a GPE  Nebraska  GPE\n",
            "34: \"Loeb\" is a PERSON  Mark Loeb  PERSON\n",
            "35: \"Loeb\" is a PERSON  Mark Loeb  PERSON\n",
            "36: \"Canada\" is a GPE  Canada  GPE\n",
            "37: \"at least two metres\" is a QUANTITY  at least two metres  QUANTITY\n",
            "38: \"Gary Moore/CBC\" is a PERSON  Gary Moore/CBC  PERSON\n",
            "39: \"Allison McGeer\" is a PERSON  Allison McGeer  PERSON\n",
            "40: \"Sinai Health\" is a ORG  Sinai Health  ORG\n",
            "41: \"Toronto\" is a GPE  Toronto  GPE\n",
            "42: \"hundreds\" is a CARDINAL  hundreds  CARDINAL\n",
            "43: \"hours\" is a TIME  hours  TIME\n",
            "44: \"McGeer\" is a ORG  Allison McGeer  PERSON\n",
            "45: \"five minutes\" is a TIME  five minutes  TIME\n",
            "46: \"McGeer\" is a PERSON  Allison McGeer  PERSON\n",
            "47: \"2 metres\" is a QUANTITY  2 metres  QUANTITY\n",
            "48: \"Bourouiba's\" is a ORG  Bourouiba's  ORG\n",
            "49: \"Bourouiba\" is a ORG  Credit Lydia Bourouiba/MIT  ORG\n",
            "50: \"seven or eight metres\" is a QUANTITY  seven or eight metres  QUANTITY\n",
            "51: \"Credit Lydia Bourouiba/MIT\" is a ORG  Credit Lydia Bourouiba/MIT  ORG\n",
            "52: \"Canadian\" is a NORP  Canadian  NORP\n",
            "53: \"about one kilometre\" is a QUANTITY  about one kilometre  QUANTITY\n",
            "54: \"two-metre\" is a QUANTITY  two-metre  QUANTITY\n",
            "55: \"up to three minutes\" is a TIME  up to three minutes  TIME\n",
            "56: \"Samira Mubareka\" is a PERSON  Samira Mubareka  PERSON\n",
            "57: \"Sunnybrook Hospital\" is a ORG  Sunnybrook Hospital  ORG\n",
            "58: \"Toronto\" is a GPE  Toronto  GPE\n",
            "59: \"Bourouiba\" is a PERSON  Credit Lydia Bourouiba/MIT  ORG\n",
            "60: \"two metres\" is a QUANTITY  at least two metres  QUANTITY\n",
            "61: \"JAMA Insights\" is a PERSON  JAMA Insights  PERSON\n",
            "62: \"March\" is a DATE  March  DATE\n",
            "63: \"two metres\" is a QUANTITY  at least two metres  QUANTITY\n",
            "64: \"Mubareka\" is a LOC  Samira Mubareka  PERSON\n",
            "65: \"two-metre\" is a QUANTITY  two-metre  QUANTITY\n",
            "66: \"Second\" is a ORDINAL  Second  ORDINAL\n",
            "67: \"N95\" is a ORG  N95  ORG\n",
            "68: \"U.S.\" is a GPE  the U.S. National Institutes of Health  ORG\n",
            "69: \"Canadian\" is a NORP  Canadian  NORP\n",
            "70: \"Justin Trudeau\" is a PERSON  Justin Trudeau  PERSON\n",
            "71: \"Mubareka\" is a WORK_OF_ART  Samira Mubareka  PERSON\n",
            "72: \"April 2020\" is a DATE  April 2020  DATE\n",
            "73: \"the New England Journal of Medicine\" is a ORG  the New England Journal of Medicine  ORG\n",
            "74: \"the U.S. National Institutes of Health\" is a ORG  the U.S. National Institutes of Health  ORG\n",
            "75: \"0:42\" is a TIME  0:42  TIME\n",
            "76: \"U.S. National Institutes of Health\" is a ORG  the U.S. National Institutes of Health  ORG\n",
            "77: \"less than 10 centimetres\" is a QUANTITY  less than 10 centimetres  QUANTITY\n",
            "78: \"2009\" is a DATE  2009  DATE\n",
            "79: \"Journal of the Royal Society Interface\" is a ORG  Journal of the Royal Society Interface  ORG\n",
            "80: \"2009\" is a DATE  2009  DATE\n",
            "81: \"U.S.\" is a GPE  the U.S. National Institutes of Health  ORG\n",
            "82: \"Singapore\" is a GPE  Singapore  GPE\n",
            "83: \"N95\" is a ORG  N95  ORG\n",
            "84: \"Gary S. Settles\" is a PERSON  Gary S. Settles  PERSON\n",
            "85: \"Penn State University/Journal of\" is a ORG  Penn State University/Journal of  ORG\n",
            "86: \"The World Health Organization\" is a ORG  The World Health Organization  ORG\n",
            "87: \"Los Angeles\" is a GPE  Los Angeles  GPE\n",
            "88: \"Italy\" is a GPE  Italy  GPE\n",
            "89: \"Austria\" is a GPE  Austria  GPE\n",
            "90: \"Second\" is a ORDINAL  Second  ORDINAL\n",
            "91: \"every Saturday morning\" is a TIME  every Saturday morning  TIME\n"
          ]
        }
      ]
    },
    {
      "cell_type": "markdown",
      "metadata": {
        "id": "7VAQRFOtyMNS"
      },
      "source": [
        "**RÉPONSE Q4(b)**\n",
        "\n",
        "On remarque quelques differences oui.\n",
        "\n",
        "Dans le deuxieme test, on a essaye de compter en commencant par la fin pour aller au commencement\n",
        "\n",
        "Un exemple est 2- \"two metres\" qui dans le premier test renvoie lui meme mais renvoie sa forme la plus longue \"at least two metres\" dans le deuxieme test\n",
        "\n",
        "Un aautre exemple est 10: \"two\" qui dans le premier test renvoie \"two metres\" mais renvoie sa forme la plus longue \"at least two metres \" dans le deuxieme test"
      ]
    },
    {
      "cell_type": "markdown",
      "metadata": {
        "id": "IcGDYUR31aNt"
      },
      "source": [
        "**(TO DO) Q5 - 5 points**  \n",
        "\n",
        "Utilisez un autre article de nouvelle dans le corpus, le 7e article, donc index 6.\n",
        "\n",
        "(a) (2 points) Exécutez les deux approches (NER la plus fréquente, NER de la forme la plus longue). Pour chaque entité trouvée dans le texte, imprimez son type d'entité d'origine (tel que trouvé par spaCy, puis le type d'entité le plus courant (résultat de Q3), puis la forme normalisée avec son type d'entité (résultat de Q4). \\\n",
        "(b) (3 points) Analyser et discuter les résultats. Pensez-vous que ces approches de cohérence de texte aident ou sont-elles trop simples ? Y a-t-il des résultats contradictoires (les deux approches donnent des résultats différents). Si oui, montrez des exemples différents.\n",
        "\n"
      ]
    },
    {
      "cell_type": "code",
      "metadata": {
        "id": "0ZzLi33Ly3lV",
        "colab": {
          "base_uri": "https://localhost:8080/"
        },
        "outputId": "8cf591c2-78da-4108-bc5b-523e015a52d4"
      },
      "source": [
        "# RÉPONSE Q5(a) \n",
        "# Select document index 6\n",
        "doc = df[\"text\"][6]\n",
        "\n",
        "docs =sp(doc)\n",
        "\n",
        "# Display all entities from the text along with their index in the .ents iterator and the\n",
        "# corresponding NER type\n",
        "for i, token in enumerate(docs.ents):\n",
        "    freq = most_common_type(docs.ents[i], docs.ents)\n",
        "    ent = assign_normalized_form(docs.ents[i], docs.ents[0:i-1])\n",
        "    print(str(i) + \": \"  + token.text + \" is a \" + token.label_+ \"... Forme la plus longue:  \" + ent.text + \" is a \" + ent.label_ + \"... Type plus fréquent \"+ str(freq ))\n",
        "    "
      ],
      "execution_count": 57,
      "outputs": [
        {
          "output_type": "stream",
          "name": "stdout",
          "text": [
            "0: Coronavirus Brief is a ORG... Forme la plus longue:  Coronavirus Brief is a ORG... Type plus fréquent ORG\n",
            "1: CBC is a ORG... Forme la plus longue:  CBC is a ORG... Type plus fréquent ORG\n",
            "2: Canada is a GPE... Forme la plus longue:  Canada is a GPE... Type plus fréquent GPE\n",
            "3: C.D. Howe is a PERSON... Forme la plus longue:  C.D. Howe is a PERSON... Type plus fréquent PERSON\n",
            "4: Monday is a DATE... Forme la plus longue:  Monday is a DATE... Type plus fréquent DATE\n",
            "5: Alberta is a GPE... Forme la plus longue:  Alberta is a GPE... Type plus fréquent GPE\n",
            "6: first is a ORDINAL... Forme la plus longue:  first is a ORDINAL... Type plus fréquent ORDINAL\n",
            "7: Saturday is a DATE... Forme la plus longue:  Saturday is a DATE... Type plus fréquent DATE\n",
            "8: Air Canada is a ORG... Forme la plus longue:  Air Canada is a ORG... Type plus fréquent ORG\n",
            "9: Christmas is a DATE... Forme la plus longue:  Christmas is a DATE... Type plus fréquent DATE\n",
            "10: Canadians is a NORP... Forme la plus longue:  Canadians is a NORP... Type plus fréquent NORP\n",
            "11: more than $1.2 million is a MONEY... Forme la plus longue:  more than $1.2 million is a MONEY... Type plus fréquent MONEY\n",
            "12: England is a GPE... Forme la plus longue:  England is a GPE... Type plus fréquent GPE\n",
            "13: Peter Cziborra/Reuters is a PERSON... Forme la plus longue:  Peter Cziborra/Reuters is a PERSON... Type plus fréquent PERSON\n",
            "14: months is a DATE... Forme la plus longue:  months is a DATE... Type plus fréquent DATE\n",
            "15: CBC is a ORG... Forme la plus longue:  CBC is a ORG... Type plus fréquent ORG\n",
            "16: Andre Mayer is a PERSON... Forme la plus longue:  Andre Mayer is a PERSON... Type plus fréquent PERSON\n",
            "17: Canada is a GPE... Forme la plus longue:  Air Canada is a ORG... Type plus fréquent GPE\n",
            "18: the 19th-century is a DATE... Forme la plus longue:  the 19th-century is a DATE... Type plus fréquent DATE\n",
            "19: Calgary is a GPE... Forme la plus longue:  Calgary is a GPE... Type plus fréquent GPE\n",
            "20: John Brown is a PERSON... Forme la plus longue:  John Brown is a PERSON... Type plus fréquent PERSON\n",
            "21: the University of Calgary is a ORG... Forme la plus longue:  the University of Calgary is a ORG... Type plus fréquent ORG\n",
            "22: two-metre is a QUANTITY... Forme la plus longue:  two-metre is a QUANTITY... Type plus fréquent QUANTITY\n",
            "23: Last week is a DATE... Forme la plus longue:  Last week is a DATE... Type plus fréquent DATE\n",
            "24: Italian is a NORP... Forme la plus longue:  Italian is a NORP... Type plus fréquent NORP\n",
            "25: Milan is a GPE... Forme la plus longue:  Milan is a GPE... Type plus fréquent GPE\n",
            "26: 35 kilometres is a QUANTITY... Forme la plus longue:  35 kilometres is a QUANTITY... Type plus fréquent QUANTITY\n",
            "27: Berlin is a GPE... Forme la plus longue:  Berlin is a GPE... Type plus fréquent GPE\n",
            "28: Budapest is a GPE... Forme la plus longue:  Budapest is a GPE... Type plus fréquent GPE\n",
            "29: Mexico City is a GPE... Forme la plus longue:  Mexico City is a GPE... Type plus fréquent GPE\n",
            "30: Ahsan Habib is a PERSON... Forme la plus longue:  Ahsan Habib is a PERSON... Type plus fréquent PERSON\n",
            "31: Dalhousie University is a ORG... Forme la plus longue:  Dalhousie University is a ORG... Type plus fréquent ORG\n",
            "32: U.S. is a GPE... Forme la plus longue:  U.S. is a GPE... Type plus fréquent GPE\n",
            "33: Atlanta is a GPE... Forme la plus longue:  Atlanta is a GPE... Type plus fréquent GPE\n",
            "34: Chicago is a GPE... Forme la plus longue:  Chicago is a GPE... Type plus fréquent GPE\n",
            "35: Denver is a GPE... Forme la plus longue:  Denver is a GPE... Type plus fréquent GPE\n",
            "36: Habib is a PERSON... Forme la plus longue:  Ahsan Habib is a PERSON... Type plus fréquent PERSON\n",
            "37: Brown is a PERSON... Forme la plus longue:  John Brown is a PERSON... Type plus fréquent PERSON\n",
            "38: Calgary is a GPE... Forme la plus longue:  the University of Calgary is a ORG... Type plus fréquent GPE\n",
            "39: Housebrand is a ORG... Forme la plus longue:  Housebrand is a ORG... Type plus fréquent ORG\n",
            "40: Zoom is a NORP... Forme la plus longue:  Zoom is a NORP... Type plus fréquent NORP\n",
            "41: The National is a WORK_OF_ART... Forme la plus longue:  The National is a WORK_OF_ART... Type plus fréquent WORK_OF_ART\n",
            "42: Quebec is a ORG... Forme la plus longue:  Quebec is a ORG... Type plus fréquent ORG\n",
            "43: Conservative is a NORP... Forme la plus longue:  Conservative is a NORP... Type plus fréquent NORP\n",
            "44: 16:16 is a CARDINAL... Forme la plus longue:  16:16 is a CARDINAL... Type plus fréquent CARDINAL\n",
            "45: BRIEF Canada is a ORG... Forme la plus longue:  BRIEF Canada is a ORG... Type plus fréquent ORG\n",
            "46: C.D. Howe is a PERSON... Forme la plus longue:  C.D. Howe is a PERSON... Type plus fréquent PERSON\n",
            "47: Canada is a GPE... Forme la plus longue:  Air Canada is a ORG... Type plus fréquent GPE\n",
            "48: the C.D. Howe Institute's is a ORG... Forme la plus longue:  the C.D. Howe Institute's is a ORG... Type plus fréquent ORG\n",
            "49: Business Cycle Council is a ORG... Forme la plus longue:  Business Cycle Council is a ORG... Type plus fréquent ORG\n",
            "50: today is a DATE... Forme la plus longue:  today is a DATE... Type plus fréquent DATE\n",
            "51: Canada is a GPE... Forme la plus longue:  Air Canada is a ORG... Type plus fréquent GPE\n",
            "52: February is a DATE... Forme la plus longue:  February is a DATE... Type plus fréquent DATE\n",
            "53: one is a CARDINAL... Forme la plus longue:  one is a CARDINAL... Type plus fréquent CARDINAL\n",
            "54: one is a CARDINAL... Forme la plus longue:  one is a CARDINAL... Type plus fréquent CARDINAL\n",
            "55: two is a CARDINAL... Forme la plus longue:  two-metre is a QUANTITY... Type plus fréquent CARDINAL\n",
            "56: three-month is a DATE... Forme la plus longue:  three-month is a DATE... Type plus fréquent DATE\n",
            "57: two quarters is a CARDINAL... Forme la plus longue:  two quarters is a CARDINAL... Type plus fréquent CARDINAL\n",
            "58: less than two months old is a DATE... Forme la plus longue:  less than two months old is a DATE... Type plus fréquent DATE\n",
            "59: Canada is a GPE... Forme la plus longue:  Air Canada is a ORG... Type plus fréquent GPE\n",
            "60: first is a ORDINAL... Forme la plus longue:  first is a ORDINAL... Type plus fréquent ORDINAL\n",
            "61: Canada is a GPE... Forme la plus longue:  Air Canada is a ORG... Type plus fréquent GPE\n",
            "62: 2008 is a DATE... Forme la plus longue:  2008 is a DATE... Type plus fréquent DATE\n",
            "63: March is a DATE... Forme la plus longue:  March is a DATE... Type plus fréquent DATE\n",
            "64: April is a DATE... Forme la plus longue:  April is a DATE... Type plus fréquent DATE\n",
            "65: the entire month is a DATE... Forme la plus longue:  the entire month is a DATE... Type plus fréquent DATE\n",
            "66: Canada is a GPE... Forme la plus longue:  Air Canada is a ORG... Type plus fréquent GPE\n",
            "67: Ontario is a GPE... Forme la plus longue:  Ontario is a GPE... Type plus fréquent GPE\n",
            "68: Monday is a DATE... Forme la plus longue:  Monday is a DATE... Type plus fréquent DATE\n",
            "69: Alberta is a GPE... Forme la plus longue:  Alberta is a GPE... Type plus fréquent GPE\n",
            "70: Saturday is a DATE... Forme la plus longue:  Saturday is a DATE... Type plus fréquent DATE\n",
            "71: today is a DATE... Forme la plus longue:  today is a DATE... Type plus fréquent DATE\n",
            "72: Monday is a DATE... Forme la plus longue:  Monday is a DATE... Type plus fréquent DATE\n",
            "73: Today is a DATE... Forme la plus longue:  Today is a DATE... Type plus fréquent DATE\n",
            "74: Doug Ford is a PERSON... Forme la plus longue:  Doug Ford is a PERSON... Type plus fréquent PERSON\n",
            "75: Alberta is a GPE... Forme la plus longue:  Alberta is a GPE... Type plus fréquent GPE\n",
            "76: Jason Kenney is a PERSON... Forme la plus longue:  Jason Kenney is a PERSON... Type plus fréquent PERSON\n",
            "77: first is a ORDINAL... Forme la plus longue:  first is a ORDINAL... Type plus fréquent ORDINAL\n",
            "78: Alberta is a GPE... Forme la plus longue:  Alberta is a GPE... Type plus fréquent GPE\n",
            "79: Saturday is a DATE... Forme la plus longue:  Saturday is a DATE... Type plus fréquent DATE\n",
            "80: mid-May is a DATE... Forme la plus longue:  mid-May is a DATE... Type plus fréquent DATE\n",
            "81: Kenney is a ORG... Forme la plus longue:  Jason Kenney is a PERSON... Type plus fréquent PERSON\n",
            "82: Thursday is a DATE... Forme la plus longue:  Thursday is a DATE... Type plus fréquent DATE\n",
            "83: Monday is a DATE... Forme la plus longue:  Monday is a DATE... Type plus fréquent DATE\n",
            "84: the academic year is a DATE... Forme la plus longue:  the academic year is a DATE... Type plus fréquent DATE\n",
            "85: Kenney is a PERSON... Forme la plus longue:  Jason Kenney is a PERSON... Type plus fréquent PERSON\n",
            "86: summer is a DATE... Forme la plus longue:  summer is a DATE... Type plus fréquent DATE\n",
            "87: Canada is a GPE... Forme la plus longue:  Air Canada is a ORG... Type plus fréquent GPE\n",
            "88: Air Canada is a ORG... Forme la plus longue:  Air Canada is a ORG... Type plus fréquent ORG\n",
            "89: Christmas An Air Canada is a ORG... Forme la plus longue:  Christmas An Air Canada is a ORG... Type plus fréquent ORG\n",
            "90: winter holidays is a DATE... Forme la plus longue:  winter holidays is a DATE... Type plus fréquent DATE\n",
            "91: Canadians is a NORP... Forme la plus longue:  Canadians is a NORP... Type plus fréquent NORP\n",
            "92: Tim Strauss is a PERSON... Forme la plus longue:  Tim Strauss is a PERSON... Type plus fréquent PERSON\n",
            "93: Canadian is a NORP... Forme la plus longue:  Canadians is a NORP... Type plus fréquent NORP\n",
            "94: Air Canada is a ORG... Forme la plus longue:  Christmas An Air Canada is a ORG... Type plus fréquent ORG\n",
            "95: more than 90 is a CARDINAL... Forme la plus longue:  more than 90 is a CARDINAL... Type plus fréquent CARDINAL\n",
            "96: Canadian Club Toronto is a ORG... Forme la plus longue:  Canadian Club Toronto is a ORG... Type plus fréquent ORG\n",
            "97: today is a DATE... Forme la plus longue:  today is a DATE... Type plus fréquent DATE\n",
            "98: North American is a NORP... Forme la plus longue:  North American is a NORP... Type plus fréquent NORP\n",
            "99: Air Canada is a ORG... Forme la plus longue:  Christmas An Air Canada is a ORG... Type plus fréquent ORG\n",
            "100: Sunwing and is a ORG... Forme la plus longue:  Sunwing and is a ORG... Type plus fréquent ORG\n",
            "101: American Airlines is a ORG... Forme la plus longue:  American Airlines is a ORG... Type plus fréquent ORG\n",
            "102: Transport Canada is a ORG... Forme la plus longue:  Transport Canada is a ORG... Type plus fréquent ORG\n",
            "103: two metres is a QUANTITY... Forme la plus longue:  two metres is a QUANTITY... Type plus fréquent QUANTITY\n",
            "104: Air Canada is a ORG... Forme la plus longue:  Christmas An Air Canada is a ORG... Type plus fréquent ORG\n",
            "105: Christmas is a DATE... Forme la plus longue:  Christmas An Air Canada is a ORG... Type plus fréquent DATE\n",
            "106: Helane Becker is a PERSON... Forme la plus longue:  Helane Becker is a PERSON... Type plus fréquent PERSON\n",
            "107: first is a ORDINAL... Forme la plus longue:  first is a ORDINAL... Type plus fréquent ORDINAL\n",
            "108: SCIENCE is a ORG... Forme la plus longue:  SCIENCE is a ORG... Type plus fréquent ORG\n",
            "109: Canada is a GPE... Forme la plus longue:  Christmas An Air Canada is a ORG... Type plus fréquent GPE\n",
            "110: CBC News is a ORG... Forme la plus longue:  CBC News is a ORG... Type plus fréquent ORG\n",
            "111: covid@cbc.ca is a CARDINAL... Forme la plus longue:  covid@cbc.ca is a CARDINAL... Type plus fréquent CARDINAL\n",
            "112: U.S. is a GPE... Forme la plus longue:  U.S. is a GPE... Type plus fréquent GPE\n",
            "113: U.S. is a GPE... Forme la plus longue:  U.S. is a GPE... Type plus fréquent GPE\n",
            "114: Anthony Fauci is a PERSON... Forme la plus longue:  Anthony Fauci is a PERSON... Type plus fréquent PERSON\n",
            "115: Canada is a GPE... Forme la plus longue:  Christmas An Air Canada is a ORG... Type plus fréquent GPE\n",
            "116: Health Canada is a ORG... Forme la plus longue:  Health Canada is a ORG... Type plus fréquent ORG\n",
            "117: Health Canada is a ORG... Forme la plus longue:  Health Canada is a ORG... Type plus fréquent ORG\n",
            "118: Gilead is a ORG... Forme la plus longue:  Gilead is a ORG... Type plus fréquent ORG\n",
            "119: CBC News is a ORG... Forme la plus longue:  CBC News is a ORG... Type plus fréquent ORG\n",
            "120: Gilead is a ORG... Forme la plus longue:  Gilead is a ORG... Type plus fréquent ORG\n",
            "121: Canada is a GPE... Forme la plus longue:  Christmas An Air Canada is a ORG... Type plus fréquent GPE\n",
            "122: Alberta is a GPE... Forme la plus longue:  Alberta is a GPE... Type plus fréquent GPE\n",
            "123: daily is a DATE... Forme la plus longue:  daily is a DATE... Type plus fréquent DATE\n",
            "124: Everly-Ann Toma is a PERSON... Forme la plus longue:  Everly-Ann Toma is a PERSON... Type plus fréquent PERSON\n",
            "125: Grace Horsfall Couldwell is a PERSON... Forme la plus longue:  Grace Horsfall Couldwell is a PERSON... Type plus fréquent PERSON\n",
            "126: Paint is a ORG... Forme la plus longue:  Paint is a ORG... Type plus fréquent ORG\n",
            "127: MJ is a ORG... Forme la plus longue:  MJ is a ORG... Type plus fréquent ORG\n",
            "128: daily is a DATE... Forme la plus longue:  daily is a DATE... Type plus fréquent DATE\n",
            "129: Facebook is a ORG... Forme la plus longue:  Facebook is a ORG... Type plus fréquent ORG\n",
            "130: Alberta is a GPE... Forme la plus longue:  Alberta is a GPE... Type plus fréquent GPE\n",
            "131: MJ Stead is a ORG... Forme la plus longue:  MJ Stead is a ORG... Type plus fréquent PERSON\n",
            "132: Lori Toma is a PERSON... Forme la plus longue:  Lori Toma is a PERSON... Type plus fréquent PERSON\n",
            "133: Nancy Horsfall Couldwell is a PERSON... Forme la plus longue:  Nancy Horsfall Couldwell is a PERSON... Type plus fréquent PERSON\n",
            "134: MJ Stead is a PERSON... Forme la plus longue:  MJ Stead is a PERSON... Type plus fréquent PERSON\n",
            "135: Facebook is a ORG... Forme la plus longue:  Facebook is a ORG... Type plus fréquent ORG\n",
            "136: Paint is a ORG... Forme la plus longue:  Paint is a ORG... Type plus fréquent ORG\n",
            "137: MJ is a ORG... Forme la plus longue:  MJ Stead is a ORG... Type plus fréquent ORG\n",
            "138: Stead is a ORG... Forme la plus longue:  MJ Stead is a ORG... Type plus fréquent ORG\n",
            "139: hour-long is a TIME... Forme la plus longue:  hour-long is a TIME... Type plus fréquent TIME\n",
            "140: Facebook Live is a WORK_OF_ART... Forme la plus longue:  Facebook Live is a WORK_OF_ART... Type plus fréquent WORK_OF_ART\n",
            "141: 20 to 30 is a CARDINAL... Forme la plus longue:  20 to 30 is a CARDINAL... Type plus fréquent CARDINAL\n",
            "142: more than 1,500 is a CARDINAL... Forme la plus longue:  more than 1,500 is a CARDINAL... Type plus fréquent CARDINAL\n",
            "143: more than one is a CARDINAL... Forme la plus longue:  more than one is a CARDINAL... Type plus fréquent CARDINAL\n",
            "144: Two years ago is a DATE... Forme la plus longue:  Two years ago is a DATE... Type plus fréquent DATE\n",
            "145: a day is a DATE... Forme la plus longue:  a day is a DATE... Type plus fréquent DATE\n",
            "146: 100 days is a DATE... Forme la plus longue:  100 days is a DATE... Type plus fréquent DATE\n",
            "147: Canada is a GPE... Forme la plus longue:  Christmas An Air Canada is a ORG... Type plus fréquent GPE\n",
            "148: covid@cbc.ca is a CARDINAL... Forme la plus longue:  covid@cbc.ca is a CARDINAL... Type plus fréquent CARDINAL\n",
            "149: CBC News is a ORG... Forme la plus longue:  CBC News is a ORG... Type plus fréquent ORG\n",
            "150: daily is a DATE... Forme la plus longue:  daily is a DATE... Type plus fréquent DATE\n",
            "151: CBC News Network is a ORG... Forme la plus longue:  CBC News Network is a ORG... Type plus fréquent ORG\n",
            "152: CBC News Network is a ORG... Forme la plus longue:  CBC News Network is a ORG... Type plus fréquent ORG\n",
            "153: CBC is a ORG... Forme la plus longue:  CBC News Network is a ORG... Type plus fréquent ORG\n",
            "154: CBC News Network is a ORG... Forme la plus longue:  CBC News Network is a ORG... Type plus fréquent ORG\n",
            "155: CBC News is a ORG... Forme la plus longue:  CBC News Network is a ORG... Type plus fréquent ORG\n"
          ]
        }
      ]
    },
    {
      "cell_type": "markdown",
      "metadata": {
        "id": "Aozt4Y_a1aNu"
      },
      "source": [
        "**RÉPONSE Q5(b) - 3 point**     \n",
        "\n",
        "Cette façon de faire, qui présente certes des avantages, n'est guère parfaite, notamment parce qu’elle n’est pas structurante, au sens où elle n’établit pas de liens explicites avec les règles qui définissent ce qu’est un bon texte en rapport avec sa coherence. \n",
        "\n",
        "Oui, On peut noter quelques resultats qui sont en fait contradictoires dans les deux approches \n",
        "\n",
        "Par exemple: \n",
        "\n",
        "17: Canada is a GPE... Forme la plus longue:  Air Canada is a ORG... Type plus fréquent GPE\n",
        "\n",
        "38: Calgary is a GPE... Forme la plus longue:  the University of Calgary is a ORG... Type plus fréquent GPE\n",
        "\n",
        "more than is a CARDINAL... Forme la plus longue:  more than $1.2 million is a MONEY... Type plus fréquent CARDINAL\n"
      ]
    },
    {
      "cell_type": "markdown",
      "metadata": {
        "id": "0TsrNmD71aNz"
      },
      "source": [
        "**PARTIE 3 - Linking d'entité / Enrichissement du texte**  \n",
        "\n",
        "Pour la troisième partie de ce notebook, nous explorerons comment nous pouvons fournir une \"valeur ajoutée\" au texte des documents. Dans ce scénario, nous enrichirons le texte en effectuant un linking d'entité. \n",
        "\n",
        "Cela signifie que nous tenterons de relier les entités détectées par le NER de spaCy à une page Web active sur laquelle un lecteur peut cliquer pour obtenir plus d'informations concernant l'entité. Wikipedia est une très bonne ressource pour trouver plus d'informations sur une entité, et nous utiliserons cette ressource pour le linking d'entités.\n",
        "\n",
        "Avant de tenter de faire cette opération automatiquement, voici un exemple de la façon dont un texte sans linking d'entité se compare à un texte enrichi avec linking d'entité fait manuellement:\n",
        "\n",
        "*Aucun linking d'entité:* \\\n",
        "Pendant la pandémie, des villes américaines telles que Atlanta, Chicago et Denver ont apporté plusieurs ajustements à leurs systèmes de transport en commun.\n",
        "\n",
        "*Avec linking d'entité:* \\\n",
        "Pendant la pandémie, des villes américaines telles que <a href=\"http://en.wikipedia.org/wiki/Atlanta\"> Atlanta </a>, <a href = \"http://en.wikipedia.org/wiki / Chicago \"> Chicago </a> et <a href=\"http://en.wikipedia.org/wiki/Denver\"> Denver </a> ont apporté plusieurs ajustements à leurs systèmes de transport en commun."
      ]
    },
    {
      "cell_type": "markdown",
      "metadata": {
        "id": "VgJ8_9oq1aNz"
      },
      "source": [
        "Transformer un texte automatiquement avec des liens cliquables demande plusieurs traitements au niveau des chaînes de caractères.  Nous nous contenterons dans ce Notebook de trouver les liens sans faire les remplacements directement dans le texte.  Cela nous permettra d'explorer la ressource Wikipedia, et comprendre les difficultés relatives au \"entity linking\" sans perdre trop de temps dans la manipulation complexe de chaînes de caractères.\n",
        "\n",
        "Par exemple, avec le document (index 6), nous voudrions pouvoir lier les entités trouvées par spaCy à la page wikipedia la plus probable donnant accès à de l'information supplémentaire sur cette entité.\n",
        "\n",
        "**Le format ci-bas de liste enrichie est le type de résultat demandé à la question Q6 ci-après.**  Pour simplifier votre code, nous utiliserons ce genre de sortie plutôt que d'avoir les liens directement dans le texte.\n",
        "\n",
        "0: \"Coronavirus Brief\" is a ORG found at http://en.wikipedia.org/wiki/Coronavirus_Brief \\\n",
        "1: \"CBC\" is a ORG found at http://en.wikipedia.org/wiki/CBC \\\n",
        "2: \"Canada\" is a GPE found at http://en.wikipedia.org/wiki/Canada \\\n",
        "3: \"C.D. Howe\" is a PERSON found at http://en.wikipedia.org/wiki/C.D._Howe \\\n",
        "4: ... \\\n",
        "\n"
      ]
    },
    {
      "cell_type": "markdown",
      "metadata": {
        "id": "DnoLBMST1h5-"
      },
      "source": [
        "**(TO DO) Q6 - 5 points**  \\\n",
        "Écrivez le code nécessaire pour faire la recherche d'une page wikipedia pour les entités trouvées par spaCy (tel qu'illustré ci-haut) dans un document particulier.\n",
        "\n",
        "*Vous pouvez écrire ce code comme vous le souhaitez, mais il faut inclure les éléments suivants :*\n",
        "\n",
        "* (a) Une restriction sur le type d'entités que vous liez. Par exemple, Wikipedia ne contient pas de quantités (tel \"two meters\") il serait alors inadéquat d'inclure un lien vers une quantité.\n",
        "* (b) L'utilisation de la *forme normalisée* de l'entité pour effectuer la liaison. Par exemple, *Allison McGeer* a une page Wikipédia (https://en.wikipedia.org/wiki/Allison_McGeer) vers laquelle vous pouvez créer un lien, même lorsque vous regardez l'entité avec l'étiquette *McGeer*. Assurez-vous donc d'utiliser la fonction que vous avez développée à la Question 4 (Q4).\n",
        "* (c) Attention : la page wikipedia utilise des traits de soulignement. Ainsi, par exemple, *McMaster University* doit être transformé en https://en.wikipedia.org/wiki/McMaster_University (avec un trait de soulignement entre *McMaster* et *University*)\n",
        "* (d) Inclure un élément de post-traitement sur la forme de surface la plus longue trouvée. Par exemple, *the C.D. Howe Institute's* est trouvé par spaCy, mais Wikipédia contiendra *C.D._Howe_Institute*. Vous pouvez supprimer les petites particules comme *the* pour augmenter les chances de lien.\n",
        "* (e) Pour un document à l'entrée, imprimez une liste des formes de surface, type d'entité et lien vers Wikipedia (tel que montré ci-haut)\n",
        "\n",
        "Assurez-vous de mettre des commentaires dans votre code pour indiquer clairement ce qui correspond aux parties (a), (b), (c), (d) et (e).\n",
        "\n",
        "Il y aura probablement de nombreux liens qui mènent vers des pages Wikipedia inexistante.  C'est bon, ne vous inquiétez pas pour ça. Wikipédia ne contient pas tout, et certaines formes normalisées n'y seront pas. On vous demandera de discuter les résultats du linking à la question 7.\n"
      ]
    },
    {
      "cell_type": "code",
      "metadata": {
        "id": "cQtDrwKW1aN2",
        "scrolled": true,
        "colab": {
          "base_uri": "https://localhost:8080/"
        },
        "outputId": "5fafb06a-6127-48a2-d06d-ebad103c6aa7"
      },
      "source": [
        "# RÉPONSE Q6 -\n",
        "\n",
        "doc = df[\"text\"][6]\n",
        "\n",
        "docss =sp(doc)\n",
        "\n",
        "for i, token in enumerate(docss.ents):\n",
        "    if(token.label_ ==\"QUANTITY\") or (token.label_==\"MONEY\"): #a- Une restriction sur le type d'entités que vous liez.\n",
        "        print(\"\")\n",
        "    else:\n",
        "        ent = assign_normalized_form(docss.ents[i], docss.ents[0:i-1]) # b-  Assurez-vous donc d'utiliser la fonction que vous avez développée à la Question 4 (Q4).\n",
        "    \n",
        "        tok = '_'.join(ent.text.split())        # c- la page wikipedia utilise des traits de soulignement. Ainsi, par exemple, McMaster University doit être transformé en \n",
        "    \n",
        "        delpar = tok.replace(\"'s\", \"\")        # d- inclure un élément de post-traitement sur la forme de surface la plus longue trouvée. Par exemple, the C.D. Howe Institute's est trouvé par spaCy, mais Wikipédia contiendra C.D._Howe_Institute.\n",
        "\n",
        "        print(str(i) + \": \\\"\" +token.text +\"\\\" is a \"+ token.label_ , \"found at https://en.wikipedia.org/wiki/\"+ delpar)   #e- Pour un document à l'entrée, imprimez une liste des formes de surface, type d'entité et lien vers Wikipedia (tel que montré ci-haut)"
      ],
      "execution_count": 58,
      "outputs": [
        {
          "output_type": "stream",
          "name": "stdout",
          "text": [
            "0: \"Coronavirus Brief\" is a ORG found at https://en.wikipedia.org/wiki/Coronavirus_Brief\n",
            "1: \"CBC\" is a ORG found at https://en.wikipedia.org/wiki/CBC\n",
            "2: \"Canada\" is a GPE found at https://en.wikipedia.org/wiki/Canada\n",
            "3: \"C.D. Howe\" is a PERSON found at https://en.wikipedia.org/wiki/C.D._Howe\n",
            "4: \"Monday\" is a DATE found at https://en.wikipedia.org/wiki/Monday\n",
            "5: \"Alberta\" is a GPE found at https://en.wikipedia.org/wiki/Alberta\n",
            "6: \"first\" is a ORDINAL found at https://en.wikipedia.org/wiki/first\n",
            "7: \"Saturday\" is a DATE found at https://en.wikipedia.org/wiki/Saturday\n",
            "8: \"Air Canada\" is a ORG found at https://en.wikipedia.org/wiki/Air_Canada\n",
            "9: \"Christmas\" is a DATE found at https://en.wikipedia.org/wiki/Christmas\n",
            "10: \"Canadians\" is a NORP found at https://en.wikipedia.org/wiki/Canadians\n",
            "\n",
            "12: \"England\" is a GPE found at https://en.wikipedia.org/wiki/England\n",
            "13: \"Peter Cziborra/Reuters\" is a PERSON found at https://en.wikipedia.org/wiki/Peter_Cziborra/Reuters\n",
            "14: \"months\" is a DATE found at https://en.wikipedia.org/wiki/months\n",
            "15: \"CBC\" is a ORG found at https://en.wikipedia.org/wiki/CBC\n",
            "16: \"Andre Mayer\" is a PERSON found at https://en.wikipedia.org/wiki/Andre_Mayer\n",
            "17: \"Canada\" is a GPE found at https://en.wikipedia.org/wiki/Air_Canada\n",
            "18: \"the 19th-century\" is a DATE found at https://en.wikipedia.org/wiki/the_19th-century\n",
            "19: \"Calgary\" is a GPE found at https://en.wikipedia.org/wiki/Calgary\n",
            "20: \"John Brown\" is a PERSON found at https://en.wikipedia.org/wiki/John_Brown\n",
            "21: \"the University of Calgary\" is a ORG found at https://en.wikipedia.org/wiki/the_University_of_Calgary\n",
            "\n",
            "23: \"Last week\" is a DATE found at https://en.wikipedia.org/wiki/Last_week\n",
            "24: \"Italian\" is a NORP found at https://en.wikipedia.org/wiki/Italian\n",
            "25: \"Milan\" is a GPE found at https://en.wikipedia.org/wiki/Milan\n",
            "\n",
            "27: \"Berlin\" is a GPE found at https://en.wikipedia.org/wiki/Berlin\n",
            "28: \"Budapest\" is a GPE found at https://en.wikipedia.org/wiki/Budapest\n",
            "29: \"Mexico City\" is a GPE found at https://en.wikipedia.org/wiki/Mexico_City\n",
            "30: \"Ahsan Habib\" is a PERSON found at https://en.wikipedia.org/wiki/Ahsan_Habib\n",
            "31: \"Dalhousie University\" is a ORG found at https://en.wikipedia.org/wiki/Dalhousie_University\n",
            "32: \"U.S.\" is a GPE found at https://en.wikipedia.org/wiki/U.S.\n",
            "33: \"Atlanta\" is a GPE found at https://en.wikipedia.org/wiki/Atlanta\n",
            "34: \"Chicago\" is a GPE found at https://en.wikipedia.org/wiki/Chicago\n",
            "35: \"Denver\" is a GPE found at https://en.wikipedia.org/wiki/Denver\n",
            "36: \"Habib\" is a PERSON found at https://en.wikipedia.org/wiki/Ahsan_Habib\n",
            "37: \"Brown\" is a PERSON found at https://en.wikipedia.org/wiki/John_Brown\n",
            "38: \"Calgary\" is a GPE found at https://en.wikipedia.org/wiki/the_University_of_Calgary\n",
            "39: \"Housebrand\" is a ORG found at https://en.wikipedia.org/wiki/Housebrand\n",
            "40: \"Zoom\" is a NORP found at https://en.wikipedia.org/wiki/Zoom\n",
            "41: \"The National\" is a WORK_OF_ART found at https://en.wikipedia.org/wiki/The_National\n",
            "42: \"Quebec\" is a ORG found at https://en.wikipedia.org/wiki/Quebec\n",
            "43: \"Conservative\" is a NORP found at https://en.wikipedia.org/wiki/Conservative\n",
            "44: \"16:16\" is a CARDINAL found at https://en.wikipedia.org/wiki/16:16\n",
            "45: \"BRIEF Canada\" is a ORG found at https://en.wikipedia.org/wiki/BRIEF_Canada\n",
            "46: \"C.D. Howe\" is a PERSON found at https://en.wikipedia.org/wiki/C.D._Howe\n",
            "47: \"Canada\" is a GPE found at https://en.wikipedia.org/wiki/Air_Canada\n",
            "48: \"the C.D. Howe Institute's\" is a ORG found at https://en.wikipedia.org/wiki/the_C.D._Howe_Institute\n",
            "49: \"Business Cycle Council\" is a ORG found at https://en.wikipedia.org/wiki/Business_Cycle_Council\n",
            "50: \"today\" is a DATE found at https://en.wikipedia.org/wiki/today\n",
            "51: \"Canada\" is a GPE found at https://en.wikipedia.org/wiki/Air_Canada\n",
            "52: \"February\" is a DATE found at https://en.wikipedia.org/wiki/February\n",
            "53: \"one\" is a CARDINAL found at https://en.wikipedia.org/wiki/one\n",
            "54: \"one\" is a CARDINAL found at https://en.wikipedia.org/wiki/one\n",
            "55: \"two\" is a CARDINAL found at https://en.wikipedia.org/wiki/two-metre\n",
            "56: \"three-month\" is a DATE found at https://en.wikipedia.org/wiki/three-month\n",
            "57: \"two quarters\" is a CARDINAL found at https://en.wikipedia.org/wiki/two_quarters\n",
            "58: \"less than two months old\" is a DATE found at https://en.wikipedia.org/wiki/less_than_two_months_old\n",
            "59: \"Canada\" is a GPE found at https://en.wikipedia.org/wiki/Air_Canada\n",
            "60: \"first\" is a ORDINAL found at https://en.wikipedia.org/wiki/first\n",
            "61: \"Canada\" is a GPE found at https://en.wikipedia.org/wiki/Air_Canada\n",
            "62: \"2008\" is a DATE found at https://en.wikipedia.org/wiki/2008\n",
            "63: \"March\" is a DATE found at https://en.wikipedia.org/wiki/March\n",
            "64: \"April\" is a DATE found at https://en.wikipedia.org/wiki/April\n",
            "65: \"the entire month\" is a DATE found at https://en.wikipedia.org/wiki/the_entire_month\n",
            "66: \"Canada\" is a GPE found at https://en.wikipedia.org/wiki/Air_Canada\n",
            "67: \"Ontario\" is a GPE found at https://en.wikipedia.org/wiki/Ontario\n",
            "68: \"Monday\" is a DATE found at https://en.wikipedia.org/wiki/Monday\n",
            "69: \"Alberta\" is a GPE found at https://en.wikipedia.org/wiki/Alberta\n",
            "70: \"Saturday\" is a DATE found at https://en.wikipedia.org/wiki/Saturday\n",
            "71: \"today\" is a DATE found at https://en.wikipedia.org/wiki/today\n",
            "72: \"Monday\" is a DATE found at https://en.wikipedia.org/wiki/Monday\n",
            "73: \"Today\" is a DATE found at https://en.wikipedia.org/wiki/Today\n",
            "74: \"Doug Ford\" is a PERSON found at https://en.wikipedia.org/wiki/Doug_Ford\n",
            "75: \"Alberta\" is a GPE found at https://en.wikipedia.org/wiki/Alberta\n",
            "76: \"Jason Kenney\" is a PERSON found at https://en.wikipedia.org/wiki/Jason_Kenney\n",
            "77: \"first\" is a ORDINAL found at https://en.wikipedia.org/wiki/first\n",
            "78: \"Alberta\" is a GPE found at https://en.wikipedia.org/wiki/Alberta\n",
            "79: \"Saturday\" is a DATE found at https://en.wikipedia.org/wiki/Saturday\n",
            "80: \"mid-May\" is a DATE found at https://en.wikipedia.org/wiki/mid-May\n",
            "81: \"Kenney\" is a ORG found at https://en.wikipedia.org/wiki/Jason_Kenney\n",
            "82: \"Thursday\" is a DATE found at https://en.wikipedia.org/wiki/Thursday\n",
            "83: \"Monday\" is a DATE found at https://en.wikipedia.org/wiki/Monday\n",
            "84: \"the academic year\" is a DATE found at https://en.wikipedia.org/wiki/the_academic_year\n",
            "85: \"Kenney\" is a PERSON found at https://en.wikipedia.org/wiki/Jason_Kenney\n",
            "86: \"summer\" is a DATE found at https://en.wikipedia.org/wiki/summer\n",
            "87: \"Canada\" is a GPE found at https://en.wikipedia.org/wiki/Air_Canada\n",
            "88: \"Air Canada\" is a ORG found at https://en.wikipedia.org/wiki/Air_Canada\n",
            "89: \"Christmas An Air Canada\" is a ORG found at https://en.wikipedia.org/wiki/Christmas_An_Air_Canada\n",
            "90: \"winter holidays\" is a DATE found at https://en.wikipedia.org/wiki/winter_holidays\n",
            "91: \"Canadians\" is a NORP found at https://en.wikipedia.org/wiki/Canadians\n",
            "92: \"Tim Strauss\" is a PERSON found at https://en.wikipedia.org/wiki/Tim_Strauss\n",
            "93: \"Canadian\" is a NORP found at https://en.wikipedia.org/wiki/Canadians\n",
            "94: \"Air Canada\" is a ORG found at https://en.wikipedia.org/wiki/Christmas_An_Air_Canada\n",
            "95: \"more than 90\" is a CARDINAL found at https://en.wikipedia.org/wiki/more_than_90\n",
            "96: \"Canadian Club Toronto\" is a ORG found at https://en.wikipedia.org/wiki/Canadian_Club_Toronto\n",
            "97: \"today\" is a DATE found at https://en.wikipedia.org/wiki/today\n",
            "98: \"North American\" is a NORP found at https://en.wikipedia.org/wiki/North_American\n",
            "99: \"Air Canada\" is a ORG found at https://en.wikipedia.org/wiki/Christmas_An_Air_Canada\n",
            "100: \"Sunwing and\" is a ORG found at https://en.wikipedia.org/wiki/Sunwing_and\n",
            "101: \"American Airlines\" is a ORG found at https://en.wikipedia.org/wiki/American_Airlines\n",
            "102: \"Transport Canada\" is a ORG found at https://en.wikipedia.org/wiki/Transport_Canada\n",
            "\n",
            "104: \"Air Canada\" is a ORG found at https://en.wikipedia.org/wiki/Christmas_An_Air_Canada\n",
            "105: \"Christmas\" is a DATE found at https://en.wikipedia.org/wiki/Christmas_An_Air_Canada\n",
            "106: \"Helane Becker\" is a PERSON found at https://en.wikipedia.org/wiki/Helane_Becker\n",
            "107: \"first\" is a ORDINAL found at https://en.wikipedia.org/wiki/first\n",
            "108: \"SCIENCE\" is a ORG found at https://en.wikipedia.org/wiki/SCIENCE\n",
            "109: \"Canada\" is a GPE found at https://en.wikipedia.org/wiki/Christmas_An_Air_Canada\n",
            "110: \"CBC News\" is a ORG found at https://en.wikipedia.org/wiki/CBC_News\n",
            "111: \"covid@cbc.ca\" is a CARDINAL found at https://en.wikipedia.org/wiki/covid@cbc.ca\n",
            "112: \"U.S.\" is a GPE found at https://en.wikipedia.org/wiki/U.S.\n",
            "113: \"U.S.\" is a GPE found at https://en.wikipedia.org/wiki/U.S.\n",
            "114: \"Anthony Fauci\" is a PERSON found at https://en.wikipedia.org/wiki/Anthony_Fauci\n",
            "115: \"Canada\" is a GPE found at https://en.wikipedia.org/wiki/Christmas_An_Air_Canada\n",
            "116: \"Health Canada\" is a ORG found at https://en.wikipedia.org/wiki/Health_Canada\n",
            "117: \"Health Canada\" is a ORG found at https://en.wikipedia.org/wiki/Health_Canada\n",
            "118: \"Gilead\" is a ORG found at https://en.wikipedia.org/wiki/Gilead\n",
            "119: \"CBC News\" is a ORG found at https://en.wikipedia.org/wiki/CBC_News\n",
            "120: \"Gilead\" is a ORG found at https://en.wikipedia.org/wiki/Gilead\n",
            "121: \"Canada\" is a GPE found at https://en.wikipedia.org/wiki/Christmas_An_Air_Canada\n",
            "122: \"Alberta\" is a GPE found at https://en.wikipedia.org/wiki/Alberta\n",
            "123: \"daily\" is a DATE found at https://en.wikipedia.org/wiki/daily\n",
            "124: \"Everly-Ann Toma\" is a PERSON found at https://en.wikipedia.org/wiki/Everly-Ann_Toma\n",
            "125: \"Grace Horsfall Couldwell\" is a PERSON found at https://en.wikipedia.org/wiki/Grace_Horsfall_Couldwell\n",
            "126: \"Paint\" is a ORG found at https://en.wikipedia.org/wiki/Paint\n",
            "127: \"MJ\" is a ORG found at https://en.wikipedia.org/wiki/MJ\n",
            "128: \"daily\" is a DATE found at https://en.wikipedia.org/wiki/daily\n",
            "129: \"Facebook\" is a ORG found at https://en.wikipedia.org/wiki/Facebook\n",
            "130: \"Alberta\" is a GPE found at https://en.wikipedia.org/wiki/Alberta\n",
            "131: \"MJ Stead\" is a ORG found at https://en.wikipedia.org/wiki/MJ_Stead\n",
            "132: \"Lori Toma\" is a PERSON found at https://en.wikipedia.org/wiki/Lori_Toma\n",
            "133: \"Nancy Horsfall Couldwell\" is a PERSON found at https://en.wikipedia.org/wiki/Nancy_Horsfall_Couldwell\n",
            "134: \"MJ Stead\" is a PERSON found at https://en.wikipedia.org/wiki/MJ_Stead\n",
            "135: \"Facebook\" is a ORG found at https://en.wikipedia.org/wiki/Facebook\n",
            "136: \"Paint\" is a ORG found at https://en.wikipedia.org/wiki/Paint\n",
            "137: \"MJ\" is a ORG found at https://en.wikipedia.org/wiki/MJ_Stead\n",
            "138: \"Stead\" is a ORG found at https://en.wikipedia.org/wiki/MJ_Stead\n",
            "139: \"hour-long\" is a TIME found at https://en.wikipedia.org/wiki/hour-long\n",
            "140: \"Facebook Live\" is a WORK_OF_ART found at https://en.wikipedia.org/wiki/Facebook_Live\n",
            "141: \"20 to 30\" is a CARDINAL found at https://en.wikipedia.org/wiki/20_to_30\n",
            "142: \"more than 1,500\" is a CARDINAL found at https://en.wikipedia.org/wiki/more_than_1,500\n",
            "143: \"more than one\" is a CARDINAL found at https://en.wikipedia.org/wiki/more_than_one\n",
            "144: \"Two years ago\" is a DATE found at https://en.wikipedia.org/wiki/Two_years_ago\n",
            "145: \"a day\" is a DATE found at https://en.wikipedia.org/wiki/a_day\n",
            "146: \"100 days\" is a DATE found at https://en.wikipedia.org/wiki/100_days\n",
            "147: \"Canada\" is a GPE found at https://en.wikipedia.org/wiki/Christmas_An_Air_Canada\n",
            "148: \"covid@cbc.ca\" is a CARDINAL found at https://en.wikipedia.org/wiki/covid@cbc.ca\n",
            "149: \"CBC News\" is a ORG found at https://en.wikipedia.org/wiki/CBC_News\n",
            "150: \"daily\" is a DATE found at https://en.wikipedia.org/wiki/daily\n",
            "151: \"CBC News Network\" is a ORG found at https://en.wikipedia.org/wiki/CBC_News_Network\n",
            "152: \"CBC News Network\" is a ORG found at https://en.wikipedia.org/wiki/CBC_News_Network\n",
            "153: \"CBC\" is a ORG found at https://en.wikipedia.org/wiki/CBC_News_Network\n",
            "154: \"CBC News Network\" is a ORG found at https://en.wikipedia.org/wiki/CBC_News_Network\n",
            "155: \"CBC News\" is a ORG found at https://en.wikipedia.org/wiki/CBC_News_Network\n"
          ]
        }
      ]
    },
    {
      "cell_type": "markdown",
      "metadata": {
        "id": "v_7EfNtK1aN2"
      },
      "source": [
        "**(TO DO) Q7 - 5 points**  \n",
        "\n",
        "Effectuez une évaluation qualitative de la méthode de linking d'entités que vous avez écrite en Q6. Pour votre évaluation qualitative, vous devez choisir un document (celui que vous voulez dans le corpus de nouvelles sur Covid-19, et assurez-vous de mentionner lequel) et exécuter votre méthode sur ce document. Répondez aux questions suivantes :\n",
        "\n",
        "* a. Donnez 2 exemples d'entités où la forme plus longue a été trouvée dans Wikipedia. La page trouvée est-elle appropriée ? La forme plus courte serait-elle également trouvée? Serait-elle liée à la même page?\n",
        "* b. Donnez 2 exemples d'entités où la page wikipedia n'existait pas. Pourquoi? La forme recherchée était-elle incorrecte ou l'entité était-elle peu connue (et donc sans page Wikipedia)?\n",
        "* c. Essayez de restreindre votre recherche avec différents types d'entités. Pensez-vous que les DATE sont couvertes par Wikipédia ? Qu'en est-il de PERSON ou de GPE ? Discutez de la couverture des différents types d'entités en donnant des exemples."
      ]
    },
    {
      "cell_type": "markdown",
      "metadata": {
        "id": "kQ4MtlmS4nle"
      },
      "source": [
        "**RÉPONSE Q7**\n",
        "On va faire  une evaluation qualitative avec le document d'index 6\n",
        "\n",
        "a-\n",
        "2 exemples de d'entités où la forme plus longue a été trouvée dans Wikipedia:\n",
        "\n",
        "38: \"Calgary\" is a GPE found at https://en.wikipedia.org/wiki/the_University_of_Calgary\n",
        "\n",
        "36: \"Habib\" is a PERSON found at https://en.wikipedia.org/wiki/Ahsan_Habib\n",
        "\n",
        "oui, La page trouvée est appropriée. \n",
        "La forme plus courte serait également trouvée mais ca ne serait pas liée à la même page\n",
        "\n",
        "b-\n",
        "2 exemples d'entités où la page wikipedia n'existait pas:\n",
        "\n",
        "138: \"Stead\" is a ORG found at https://en.wikipedia.org/wiki/MJ_Stead\n",
        "\n",
        "133: \"Nancy Horsfall Couldwell\" is a PERSON found at https://en.wikipedia.org/wiki/Nancy_Horsfall_Couldwell\n",
        "\n",
        "Parce que Wikipedia n'a pas d'articles avec exactement ces entités. \n",
        "L'entité recherchée est surement peu connue et donc sans page Wikipedia.\n",
        "\n",
        "c-\n",
        "\n",
        "Oui, Les DATE sont couvertes par Wikipédia, de meme pour PERSON et  GPE\n",
        "\n",
        "On trouve que les GPE sont beaucoup plus couverts par wikipedia que les autres types d'entités\n",
        "surement parce qu'ils sont populaires, car certaines entités de type DATE ou PERSON sont peu connus et ne sont donc pas couverts par wikipedia. \n",
        "Ceci peut aussi s'expliquer par le fait que la forme normalisee de la plupart des GPE sont leur forme courte et donc plus de chances d'etre trouvées\n",
        "\n",
        "par exemple:\n",
        "\n",
        "42: \"Quebec\" is a GPE found at https://en.wikipedia.org/wiki/Quebec\n",
        "\n",
        "5: \"Alberta\" is a GPE found at https://en.wikipedia.org/wiki/Alberta\n",
        "\n",
        "27: \"Berlin\" is a GPE found at https://en.wikipedia.org/wiki/Berlin\n",
        "\n",
        "28: \"Budapest\" is a GPE found at https://en.wikipedia.org/wiki/Budapest\n",
        "\n",
        "29: \"Mexico City\" is a GPE found at https://en.wikipedia.org/wiki/Mexico_City\n",
        "\n",
        "\n",
        "On note aussi quelques ambiguités, et ca fait que wikipedia ne sait pas quelle page est ce qu'on veut acceder \n",
        "par exemple:\n",
        "\n",
        "20: \"John Brown\" is a PERSON found at https://en.wikipedia.org/wiki/John_Brown\n",
        "\n",
        "qui donnent le resultat de plusieurs john brown"
      ]
    },
    {
      "cell_type": "markdown",
      "metadata": {
        "id": "S41KwFDE1aN7"
      },
      "source": [
        "***SIGNATURE:***\n",
        "Mon nom est Cheikh Bassirou Ndoye.\n",
        "Mon numéro d'étudiant(e) est 300045791.\n",
        "J'atteste être l'auteur(e) de ce Notebook."
      ]
    },
    {
      "cell_type": "code",
      "metadata": {
        "id": "yHL_e6lK1MWG"
      },
      "source": [
        ""
      ],
      "execution_count": null,
      "outputs": []
    }
  ]
}